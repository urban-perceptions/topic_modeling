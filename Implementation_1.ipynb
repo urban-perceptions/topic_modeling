{
  "cells": [
    {
      "cell_type": "code",
      "source": [
        "# The model in \"Implementation_2.ipynb\" was found to lead to better results"
      ],
      "metadata": {
        "id": "b1Y5qWJBUegE"
      },
      "execution_count": 1,
      "outputs": []
    },
    {
      "cell_type": "code",
      "execution_count": 2,
      "metadata": {
        "id": "EhbNOaB3O-ar"
      },
      "outputs": [],
      "source": [
        "import re\n",
        "import numpy as np\n",
        "import pandas as pd\n",
        "from pprint import pprint\n",
        "import gensim\n",
        "import gensim.corpora as corpora\n",
        "from gensim.utils import simple_preprocess\n",
        "from gensim.models import CoherenceModel\n",
        "import spacy\n",
        "import matplotlib.pyplot as plt\n",
        "import nltk"
      ]
    },
    {
      "cell_type": "markdown",
      "metadata": {
        "id": "SOWyjWfpOmM9"
      },
      "source": [
        "# Data Import and Processing"
      ]
    },
    {
      "cell_type": "code",
      "execution_count": 3,
      "metadata": {
        "id": "pL3B7sXZP4WG",
        "colab": {
          "base_uri": "https://localhost:8080/"
        },
        "outputId": "bdb7f6ca-0361-4ab9-c090-c3144f771348"
      },
      "outputs": [
        {
          "output_type": "stream",
          "name": "stdout",
          "text": [
            "Mounted at /content/drive\n"
          ]
        }
      ],
      "source": [
        "from google.colab import drive\n",
        "drive.mount('/content/drive')"
      ]
    },
    {
      "cell_type": "code",
      "execution_count": 4,
      "metadata": {
        "id": "mwV7b_14P8ln",
        "colab": {
          "base_uri": "https://localhost:8080/"
        },
        "outputId": "ad6d58c8-e554-442f-acae-3558ec175006"
      },
      "outputs": [
        {
          "output_type": "stream",
          "name": "stdout",
          "text": [
            "/content/drive/MyDrive\n"
          ]
        }
      ],
      "source": [
        "cd drive/MyDrive"
      ]
    },
    {
      "cell_type": "code",
      "execution_count": 5,
      "metadata": {
        "id": "ORXiPda5PSXj",
        "colab": {
          "base_uri": "https://localhost:8080/"
        },
        "outputId": "74f35d98-8464-4916-8e75-c8c18d848fb7"
      },
      "outputs": [
        {
          "output_type": "stream",
          "name": "stdout",
          "text": [
            "2023-05-22 16:55:27.673054: W tensorflow/compiler/tf2tensorrt/utils/py_utils.cc:38] TF-TRT Warning: Could not find TensorRT\n",
            "Looking in indexes: https://pypi.org/simple, https://us-python.pkg.dev/colab-wheels/public/simple/\n",
            "Collecting en-core-web-md==3.5.0\n",
            "  Downloading https://github.com/explosion/spacy-models/releases/download/en_core_web_md-3.5.0/en_core_web_md-3.5.0-py3-none-any.whl (42.8 MB)\n",
            "\u001b[2K     \u001b[90m━━━━━━━━━━━━━━━━━━━━━━━━━━━━━━━━━━━━━━━━\u001b[0m \u001b[32m42.8/42.8 MB\u001b[0m \u001b[31m20.7 MB/s\u001b[0m eta \u001b[36m0:00:00\u001b[0m\n",
            "\u001b[?25hRequirement already satisfied: spacy<3.6.0,>=3.5.0 in /usr/local/lib/python3.10/dist-packages (from en-core-web-md==3.5.0) (3.5.2)\n",
            "Requirement already satisfied: spacy-legacy<3.1.0,>=3.0.11 in /usr/local/lib/python3.10/dist-packages (from spacy<3.6.0,>=3.5.0->en-core-web-md==3.5.0) (3.0.12)\n",
            "Requirement already satisfied: spacy-loggers<2.0.0,>=1.0.0 in /usr/local/lib/python3.10/dist-packages (from spacy<3.6.0,>=3.5.0->en-core-web-md==3.5.0) (1.0.4)\n",
            "Requirement already satisfied: murmurhash<1.1.0,>=0.28.0 in /usr/local/lib/python3.10/dist-packages (from spacy<3.6.0,>=3.5.0->en-core-web-md==3.5.0) (1.0.9)\n",
            "Requirement already satisfied: cymem<2.1.0,>=2.0.2 in /usr/local/lib/python3.10/dist-packages (from spacy<3.6.0,>=3.5.0->en-core-web-md==3.5.0) (2.0.7)\n",
            "Requirement already satisfied: preshed<3.1.0,>=3.0.2 in /usr/local/lib/python3.10/dist-packages (from spacy<3.6.0,>=3.5.0->en-core-web-md==3.5.0) (3.0.8)\n",
            "Requirement already satisfied: thinc<8.2.0,>=8.1.8 in /usr/local/lib/python3.10/dist-packages (from spacy<3.6.0,>=3.5.0->en-core-web-md==3.5.0) (8.1.9)\n",
            "Requirement already satisfied: wasabi<1.2.0,>=0.9.1 in /usr/local/lib/python3.10/dist-packages (from spacy<3.6.0,>=3.5.0->en-core-web-md==3.5.0) (1.1.1)\n",
            "Requirement already satisfied: srsly<3.0.0,>=2.4.3 in /usr/local/lib/python3.10/dist-packages (from spacy<3.6.0,>=3.5.0->en-core-web-md==3.5.0) (2.4.6)\n",
            "Requirement already satisfied: catalogue<2.1.0,>=2.0.6 in /usr/local/lib/python3.10/dist-packages (from spacy<3.6.0,>=3.5.0->en-core-web-md==3.5.0) (2.0.8)\n",
            "Requirement already satisfied: typer<0.8.0,>=0.3.0 in /usr/local/lib/python3.10/dist-packages (from spacy<3.6.0,>=3.5.0->en-core-web-md==3.5.0) (0.7.0)\n",
            "Requirement already satisfied: pathy>=0.10.0 in /usr/local/lib/python3.10/dist-packages (from spacy<3.6.0,>=3.5.0->en-core-web-md==3.5.0) (0.10.1)\n",
            "Requirement already satisfied: smart-open<7.0.0,>=5.2.1 in /usr/local/lib/python3.10/dist-packages (from spacy<3.6.0,>=3.5.0->en-core-web-md==3.5.0) (6.3.0)\n",
            "Requirement already satisfied: tqdm<5.0.0,>=4.38.0 in /usr/local/lib/python3.10/dist-packages (from spacy<3.6.0,>=3.5.0->en-core-web-md==3.5.0) (4.65.0)\n",
            "Requirement already satisfied: numpy>=1.15.0 in /usr/local/lib/python3.10/dist-packages (from spacy<3.6.0,>=3.5.0->en-core-web-md==3.5.0) (1.22.4)\n",
            "Requirement already satisfied: requests<3.0.0,>=2.13.0 in /usr/local/lib/python3.10/dist-packages (from spacy<3.6.0,>=3.5.0->en-core-web-md==3.5.0) (2.27.1)\n",
            "Requirement already satisfied: pydantic!=1.8,!=1.8.1,<1.11.0,>=1.7.4 in /usr/local/lib/python3.10/dist-packages (from spacy<3.6.0,>=3.5.0->en-core-web-md==3.5.0) (1.10.7)\n",
            "Requirement already satisfied: jinja2 in /usr/local/lib/python3.10/dist-packages (from spacy<3.6.0,>=3.5.0->en-core-web-md==3.5.0) (3.1.2)\n",
            "Requirement already satisfied: setuptools in /usr/local/lib/python3.10/dist-packages (from spacy<3.6.0,>=3.5.0->en-core-web-md==3.5.0) (67.7.2)\n",
            "Requirement already satisfied: packaging>=20.0 in /usr/local/lib/python3.10/dist-packages (from spacy<3.6.0,>=3.5.0->en-core-web-md==3.5.0) (23.1)\n",
            "Requirement already satisfied: langcodes<4.0.0,>=3.2.0 in /usr/local/lib/python3.10/dist-packages (from spacy<3.6.0,>=3.5.0->en-core-web-md==3.5.0) (3.3.0)\n",
            "Requirement already satisfied: typing-extensions>=4.2.0 in /usr/local/lib/python3.10/dist-packages (from pydantic!=1.8,!=1.8.1,<1.11.0,>=1.7.4->spacy<3.6.0,>=3.5.0->en-core-web-md==3.5.0) (4.5.0)\n",
            "Requirement already satisfied: urllib3<1.27,>=1.21.1 in /usr/local/lib/python3.10/dist-packages (from requests<3.0.0,>=2.13.0->spacy<3.6.0,>=3.5.0->en-core-web-md==3.5.0) (1.26.15)\n",
            "Requirement already satisfied: certifi>=2017.4.17 in /usr/local/lib/python3.10/dist-packages (from requests<3.0.0,>=2.13.0->spacy<3.6.0,>=3.5.0->en-core-web-md==3.5.0) (2022.12.7)\n",
            "Requirement already satisfied: charset-normalizer~=2.0.0 in /usr/local/lib/python3.10/dist-packages (from requests<3.0.0,>=2.13.0->spacy<3.6.0,>=3.5.0->en-core-web-md==3.5.0) (2.0.12)\n",
            "Requirement already satisfied: idna<4,>=2.5 in /usr/local/lib/python3.10/dist-packages (from requests<3.0.0,>=2.13.0->spacy<3.6.0,>=3.5.0->en-core-web-md==3.5.0) (3.4)\n",
            "Requirement already satisfied: blis<0.8.0,>=0.7.8 in /usr/local/lib/python3.10/dist-packages (from thinc<8.2.0,>=8.1.8->spacy<3.6.0,>=3.5.0->en-core-web-md==3.5.0) (0.7.9)\n",
            "Requirement already satisfied: confection<1.0.0,>=0.0.1 in /usr/local/lib/python3.10/dist-packages (from thinc<8.2.0,>=8.1.8->spacy<3.6.0,>=3.5.0->en-core-web-md==3.5.0) (0.0.4)\n",
            "Requirement already satisfied: click<9.0.0,>=7.1.1 in /usr/local/lib/python3.10/dist-packages (from typer<0.8.0,>=0.3.0->spacy<3.6.0,>=3.5.0->en-core-web-md==3.5.0) (8.1.3)\n",
            "Requirement already satisfied: MarkupSafe>=2.0 in /usr/local/lib/python3.10/dist-packages (from jinja2->spacy<3.6.0,>=3.5.0->en-core-web-md==3.5.0) (2.1.2)\n",
            "Installing collected packages: en-core-web-md\n",
            "Successfully installed en-core-web-md-3.5.0\n",
            "\u001b[38;5;2m✔ Download and installation successful\u001b[0m\n",
            "You can now load the package via spacy.load('en_core_web_md')\n"
          ]
        }
      ],
      "source": [
        "! python -m spacy download en_core_web_md"
      ]
    },
    {
      "cell_type": "code",
      "execution_count": 6,
      "metadata": {
        "id": "K0ausk7DOEg3"
      },
      "outputs": [],
      "source": [
        "from sklearn.datasets import fetch_20newsgroups\n",
        "newsgroups_train = fetch_20newsgroups(subset='train')"
      ]
    },
    {
      "cell_type": "code",
      "execution_count": 7,
      "metadata": {
        "id": "mnxm0RHPOkqg",
        "colab": {
          "base_uri": "https://localhost:8080/",
          "height": 125
        },
        "outputId": "0e638791-0e25-45a3-cbc4-7d79b323ea5a"
      },
      "outputs": [
        {
          "output_type": "execute_result",
          "data": {
            "text/plain": [
              "\"From: lerxst@wam.umd.edu (where's my thing)\\nSubject: WHAT car is this!?\\nNntp-Posting-Host: rac3.wam.umd.edu\\nOrganization: University of Maryland, College Park\\nLines: 15\\n\\n I was wondering if anyone out there could enlighten me on this car I saw\\nthe other day. It was a 2-door sports car, looked to be from the late 60s/\\nearly 70s. It was called a Bricklin. The doors were really small. In addition,\\nthe front bumper was separate from the rest of the body. This is \\nall I know. If anyone can tellme a model name, engine specs, years\\nof production, where this car is made, history, or whatever info you\\nhave on this funky looking car, please e-mail.\\n\\nThanks,\\n- IL\\n   ---- brought to you by your neighborhood Lerxst ----\\n\\n\\n\\n\\n\""
            ],
            "application/vnd.google.colaboratory.intrinsic+json": {
              "type": "string"
            }
          },
          "metadata": {},
          "execution_count": 7
        }
      ],
      "source": [
        "newsgroups_train.data[0]"
      ]
    },
    {
      "cell_type": "code",
      "execution_count": 8,
      "metadata": {
        "id": "duLq6Sf8OqhN",
        "colab": {
          "base_uri": "https://localhost:8080/"
        },
        "outputId": "5b1b2d5a-de85-4eb8-a748-497307a10cbc"
      },
      "outputs": [
        {
          "output_type": "stream",
          "name": "stderr",
          "text": [
            "[nltk_data] Downloading package stopwords to /root/nltk_data...\n",
            "[nltk_data]   Unzipping corpora/stopwords.zip.\n"
          ]
        }
      ],
      "source": [
        "nltk.download('stopwords')\n",
        "nlp = spacy.load('en_core_web_md', disable=['parser', 'ner'])"
      ]
    },
    {
      "cell_type": "code",
      "execution_count": 9,
      "metadata": {
        "id": "iAb-VRU0O36o"
      },
      "outputs": [],
      "source": [
        "from nltk.corpus import stopwords\n",
        "stop_words = stopwords.words('english')\n",
        "stop_words.extend(['from', 'subject', 're', 'edu', 'use'])"
      ]
    },
    {
      "cell_type": "code",
      "execution_count": 10,
      "metadata": {
        "id": "Gaihm8b4Pvv_"
      },
      "outputs": [],
      "source": [
        "def sent_to_words(sentences):\n",
        "   for sentence in sentences:\n",
        "      yield(gensim.utils.simple_preprocess(str(sentence), deacc=True))"
      ]
    },
    {
      "cell_type": "code",
      "execution_count": 11,
      "metadata": {
        "id": "wRkH_qt6QiDa"
      },
      "outputs": [],
      "source": [
        "import csv\n",
        "import pandas as pd"
      ]
    },
    {
      "cell_type": "code",
      "execution_count": 12,
      "metadata": {
        "id": "MuV2HBsaQ-pn",
        "colab": {
          "base_uri": "https://localhost:8080/",
          "height": 852
        },
        "outputId": "00e9b55c-e591-494b-d901-96014561fb34"
      },
      "outputs": [
        {
          "output_type": "execute_result",
          "data": {
            "text/plain": [
              "       Unnamed: 0   edit_history_tweet_ids            author_id  \\\n",
              "0            1268  ['1391443346443411457']  1267945445084598274   \n",
              "1            4672  ['1311653244112957440']              5445832   \n",
              "2            2327  ['1423822631577456648']             41679815   \n",
              "3              66  ['1287040376738635776']            347029713   \n",
              "4            2525  ['1376576317903241217']             41679815   \n",
              "...           ...                      ...                  ...   \n",
              "27195      107618  ['1315221808325435393']  1099150592138596353   \n",
              "27196      108522  ['1440294771709284363']           3526993403   \n",
              "27197      107637  ['1314770648904994820']             32148675   \n",
              "27198      107125  ['1217178572462399489']  1196663730144075777   \n",
              "27199      110407  ['1429969310424961030']             71337036   \n",
              "\n",
              "                     created_at      conversation_id            id  \\\n",
              "0      2021-05-09T17:22:00.000Z  1391443346443411457  1.391443e+18   \n",
              "1      2020-10-01T13:04:37.000Z  1311653244112957440  1.311653e+18   \n",
              "2      2021-08-07T01:45:43.000Z  1423822631577456648  1.423823e+18   \n",
              "3      2020-07-25T15:01:52.000Z  1287040376738635776  1.287040e+18   \n",
              "4      2021-03-29T16:45:44.000Z  1376576317903241217  1.376576e+18   \n",
              "...                         ...                  ...           ...   \n",
              "27195  2020-10-11T09:24:49.000Z  1315221808325435393  1.315222e+18   \n",
              "27196  2021-09-21T12:40:07.000Z  1440294771709284363  1.440295e+18   \n",
              "27197  2020-10-10T03:32:04.000Z  1314770648904994820  1.314771e+18   \n",
              "27198  2020-01-14T20:16:00.000Z  1217178572462399489  1.217179e+18   \n",
              "27199  2021-08-24T00:50:25.000Z  1429969310424961030  1.429969e+18   \n",
              "\n",
              "                                                    text      geo.place_id  \\\n",
              "0      Does #FortWorth ever cross your mind? \\nhttps:...               NaN   \n",
              "1      P.F.L. Always! 2004-06\\n.\\n.\\nFollow @playarab...  42e46bc3663a4b5f   \n",
              "2      Disabled vehicle, right lane blocked in #FortW...  42e46bc3663a4b5f   \n",
              "3      Pickup Man the Cowboy’s Cowboy🤠  #stockyardsch...  42e46bc3663a4b5f   \n",
              "4      Accident. two left lanes blocked. in #FortWort...  42e46bc3663a4b5f   \n",
              "...                                                  ...               ...   \n",
              "27195  Wearing the smile my momma gave me 💕💖👄⚡️🍓🧠💅🏼🍇 ...  1279db2db14240db   \n",
              "27196  L.A. is Calling Again! 🎶 🎤 #singer #losangeles...  0051d76b1627f404   \n",
              "27197  So get ready #LosAngeles!\\nUnless #Miami #Heat...  35f9d631a3650f85   \n",
              "27198  That's the cop who threatened me worldstar @vi...  2da132a7bfebfc0c   \n",
              "27199  Reposted from @catchandreleaseband @emonightpo...  6f24e28976abe656   \n",
              "\n",
              "      referenced_tweets         city  inside withheld.copyright  \\\n",
              "0                   NaN   Fort Worth     1.0                NaN   \n",
              "1                   NaN   Fort Worth     1.0                NaN   \n",
              "2                   NaN   Fort Worth     1.0                NaN   \n",
              "3                   NaN   Fort Worth     1.0                NaN   \n",
              "4                   NaN   Fort Worth     1.0                NaN   \n",
              "...                 ...          ...     ...                ...   \n",
              "27195               NaN  Los Angeles     0.0                NaN   \n",
              "27196               NaN  Los Angeles     0.0                NaN   \n",
              "27197               NaN  Los Angeles     0.0                NaN   \n",
              "27198               NaN  Los Angeles     0.0                NaN   \n",
              "27199               NaN  Los Angeles     0.0                NaN   \n",
              "\n",
              "      withheld.country_codes  withheld.scope  \\\n",
              "0                        NaN             NaN   \n",
              "1                        NaN             NaN   \n",
              "2                        NaN             NaN   \n",
              "3                        NaN             NaN   \n",
              "4                        NaN             NaN   \n",
              "...                      ...             ...   \n",
              "27195                    NaN             NaN   \n",
              "27196                    NaN             NaN   \n",
              "27197                    NaN             NaN   \n",
              "27198                    NaN             NaN   \n",
              "27199                    NaN             NaN   \n",
              "\n",
              "                                                 hashtag  \\\n",
              "0             ['FortWorth', 'Stockyards', 'SUV', 'Limo']   \n",
              "1      ['playarabbit', 'theparksmall', 'fortworth', '...   \n",
              "2                            ['FortWorth', 'DFWTraffic']   \n",
              "3      ['stockyardschampionshiprodeo', 'stockyardspro...   \n",
              "4                            ['FortWorth', 'DFWTraffic']   \n",
              "...                                                  ...   \n",
              "27195                    ['SelfAddiction', 'LosAngeles']   \n",
              "27196  ['singer', 'losangeles', 'newjersey', 'sony', ...   \n",
              "27197  ['LosAngeles', 'Miami', 'Heat', 'LeBronJames',...   \n",
              "27198  ['pig', 'montebello', 'montebellopd', 'LosAnge...   \n",
              "27199  ['band', 'visual', 'concertphotography', 'pict...   \n",
              "\n",
              "                                         text_hash_split  \\\n",
              "0      Does fort worth ever cross your mind? \\nhttps:...   \n",
              "1      P.F.L. Always! 2004-06\\n.\\n.\\nFollow @playarab...   \n",
              "2      Disabled vehicle, right lane blocked in fort w...   \n",
              "3      Pickup Man the Cowboy’s Cowboy🤠  stockyardscha...   \n",
              "4      Accident. two left lanes blocked. in fort wort...   \n",
              "...                                                  ...   \n",
              "27195  Wearing the smile my momma gave me 💕💖👄⚡️🍓🧠💅🏼🍇 ...   \n",
              "27196  L.A. is Calling Again! 🎶 🎤 singer los angeles ...   \n",
              "27197  So get ready los angeles!\\nUnless miami heat a...   \n",
              "27198  That's the cop who threatened me worldstar @vi...   \n",
              "27199  Reposted from @catchandreleaseband @emonightpo...   \n",
              "\n",
              "                                              text_clean  \n",
              "0      does fort worth ever cross your mind and 469 2...  \n",
              "1      p f l always 06 follow play a rabbit the park ...  \n",
              "2      disabled vehicle right lane blocked in fort wo...  \n",
              "3      pickup man the cowboys cowboy stockyardschampi...  \n",
              "4      accident two left lanes blocked in fort worth ...  \n",
              "...                                                  ...  \n",
              "27195  wearing the smile my momma gave me self addict...  \n",
              "27196  l a is calling again singer los angeles newjer...  \n",
              "27197  so get ready los angeles unless miami heat att...  \n",
              "27198  that s the cop who threatened me worldstar vic...  \n",
              "27199  reposted from 21 2021 band visual concertphoto...  \n",
              "\n",
              "[27200 rows x 17 columns]"
            ],
            "text/html": [
              "\n",
              "  <div id=\"df-e7369655-c8ed-4f8b-b40e-4faeeafd2b79\">\n",
              "    <div class=\"colab-df-container\">\n",
              "      <div>\n",
              "<style scoped>\n",
              "    .dataframe tbody tr th:only-of-type {\n",
              "        vertical-align: middle;\n",
              "    }\n",
              "\n",
              "    .dataframe tbody tr th {\n",
              "        vertical-align: top;\n",
              "    }\n",
              "\n",
              "    .dataframe thead th {\n",
              "        text-align: right;\n",
              "    }\n",
              "</style>\n",
              "<table border=\"1\" class=\"dataframe\">\n",
              "  <thead>\n",
              "    <tr style=\"text-align: right;\">\n",
              "      <th></th>\n",
              "      <th>Unnamed: 0</th>\n",
              "      <th>edit_history_tweet_ids</th>\n",
              "      <th>author_id</th>\n",
              "      <th>created_at</th>\n",
              "      <th>conversation_id</th>\n",
              "      <th>id</th>\n",
              "      <th>text</th>\n",
              "      <th>geo.place_id</th>\n",
              "      <th>referenced_tweets</th>\n",
              "      <th>city</th>\n",
              "      <th>inside</th>\n",
              "      <th>withheld.copyright</th>\n",
              "      <th>withheld.country_codes</th>\n",
              "      <th>withheld.scope</th>\n",
              "      <th>hashtag</th>\n",
              "      <th>text_hash_split</th>\n",
              "      <th>text_clean</th>\n",
              "    </tr>\n",
              "  </thead>\n",
              "  <tbody>\n",
              "    <tr>\n",
              "      <th>0</th>\n",
              "      <td>1268</td>\n",
              "      <td>['1391443346443411457']</td>\n",
              "      <td>1267945445084598274</td>\n",
              "      <td>2021-05-09T17:22:00.000Z</td>\n",
              "      <td>1391443346443411457</td>\n",
              "      <td>1.391443e+18</td>\n",
              "      <td>Does #FortWorth ever cross your mind? \\nhttps:...</td>\n",
              "      <td>NaN</td>\n",
              "      <td>NaN</td>\n",
              "      <td>Fort Worth</td>\n",
              "      <td>1.0</td>\n",
              "      <td>NaN</td>\n",
              "      <td>NaN</td>\n",
              "      <td>NaN</td>\n",
              "      <td>['FortWorth', 'Stockyards', 'SUV', 'Limo']</td>\n",
              "      <td>Does fort worth ever cross your mind? \\nhttps:...</td>\n",
              "      <td>does fort worth ever cross your mind and 469 2...</td>\n",
              "    </tr>\n",
              "    <tr>\n",
              "      <th>1</th>\n",
              "      <td>4672</td>\n",
              "      <td>['1311653244112957440']</td>\n",
              "      <td>5445832</td>\n",
              "      <td>2020-10-01T13:04:37.000Z</td>\n",
              "      <td>1311653244112957440</td>\n",
              "      <td>1.311653e+18</td>\n",
              "      <td>P.F.L. Always! 2004-06\\n.\\n.\\nFollow @playarab...</td>\n",
              "      <td>42e46bc3663a4b5f</td>\n",
              "      <td>NaN</td>\n",
              "      <td>Fort Worth</td>\n",
              "      <td>1.0</td>\n",
              "      <td>NaN</td>\n",
              "      <td>NaN</td>\n",
              "      <td>NaN</td>\n",
              "      <td>['playarabbit', 'theparksmall', 'fortworth', '...</td>\n",
              "      <td>P.F.L. Always! 2004-06\\n.\\n.\\nFollow @playarab...</td>\n",
              "      <td>p f l always 06 follow play a rabbit the park ...</td>\n",
              "    </tr>\n",
              "    <tr>\n",
              "      <th>2</th>\n",
              "      <td>2327</td>\n",
              "      <td>['1423822631577456648']</td>\n",
              "      <td>41679815</td>\n",
              "      <td>2021-08-07T01:45:43.000Z</td>\n",
              "      <td>1423822631577456648</td>\n",
              "      <td>1.423823e+18</td>\n",
              "      <td>Disabled vehicle, right lane blocked in #FortW...</td>\n",
              "      <td>42e46bc3663a4b5f</td>\n",
              "      <td>NaN</td>\n",
              "      <td>Fort Worth</td>\n",
              "      <td>1.0</td>\n",
              "      <td>NaN</td>\n",
              "      <td>NaN</td>\n",
              "      <td>NaN</td>\n",
              "      <td>['FortWorth', 'DFWTraffic']</td>\n",
              "      <td>Disabled vehicle, right lane blocked in fort w...</td>\n",
              "      <td>disabled vehicle right lane blocked in fort wo...</td>\n",
              "    </tr>\n",
              "    <tr>\n",
              "      <th>3</th>\n",
              "      <td>66</td>\n",
              "      <td>['1287040376738635776']</td>\n",
              "      <td>347029713</td>\n",
              "      <td>2020-07-25T15:01:52.000Z</td>\n",
              "      <td>1287040376738635776</td>\n",
              "      <td>1.287040e+18</td>\n",
              "      <td>Pickup Man the Cowboy’s Cowboy🤠  #stockyardsch...</td>\n",
              "      <td>42e46bc3663a4b5f</td>\n",
              "      <td>NaN</td>\n",
              "      <td>Fort Worth</td>\n",
              "      <td>1.0</td>\n",
              "      <td>NaN</td>\n",
              "      <td>NaN</td>\n",
              "      <td>NaN</td>\n",
              "      <td>['stockyardschampionshiprodeo', 'stockyardspro...</td>\n",
              "      <td>Pickup Man the Cowboy’s Cowboy🤠  stockyardscha...</td>\n",
              "      <td>pickup man the cowboys cowboy stockyardschampi...</td>\n",
              "    </tr>\n",
              "    <tr>\n",
              "      <th>4</th>\n",
              "      <td>2525</td>\n",
              "      <td>['1376576317903241217']</td>\n",
              "      <td>41679815</td>\n",
              "      <td>2021-03-29T16:45:44.000Z</td>\n",
              "      <td>1376576317903241217</td>\n",
              "      <td>1.376576e+18</td>\n",
              "      <td>Accident. two left lanes blocked. in #FortWort...</td>\n",
              "      <td>42e46bc3663a4b5f</td>\n",
              "      <td>NaN</td>\n",
              "      <td>Fort Worth</td>\n",
              "      <td>1.0</td>\n",
              "      <td>NaN</td>\n",
              "      <td>NaN</td>\n",
              "      <td>NaN</td>\n",
              "      <td>['FortWorth', 'DFWTraffic']</td>\n",
              "      <td>Accident. two left lanes blocked. in fort wort...</td>\n",
              "      <td>accident two left lanes blocked in fort worth ...</td>\n",
              "    </tr>\n",
              "    <tr>\n",
              "      <th>...</th>\n",
              "      <td>...</td>\n",
              "      <td>...</td>\n",
              "      <td>...</td>\n",
              "      <td>...</td>\n",
              "      <td>...</td>\n",
              "      <td>...</td>\n",
              "      <td>...</td>\n",
              "      <td>...</td>\n",
              "      <td>...</td>\n",
              "      <td>...</td>\n",
              "      <td>...</td>\n",
              "      <td>...</td>\n",
              "      <td>...</td>\n",
              "      <td>...</td>\n",
              "      <td>...</td>\n",
              "      <td>...</td>\n",
              "      <td>...</td>\n",
              "    </tr>\n",
              "    <tr>\n",
              "      <th>27195</th>\n",
              "      <td>107618</td>\n",
              "      <td>['1315221808325435393']</td>\n",
              "      <td>1099150592138596353</td>\n",
              "      <td>2020-10-11T09:24:49.000Z</td>\n",
              "      <td>1315221808325435393</td>\n",
              "      <td>1.315222e+18</td>\n",
              "      <td>Wearing the smile my momma gave me 💕💖👄⚡️🍓🧠💅🏼🍇 ...</td>\n",
              "      <td>1279db2db14240db</td>\n",
              "      <td>NaN</td>\n",
              "      <td>Los Angeles</td>\n",
              "      <td>0.0</td>\n",
              "      <td>NaN</td>\n",
              "      <td>NaN</td>\n",
              "      <td>NaN</td>\n",
              "      <td>['SelfAddiction', 'LosAngeles']</td>\n",
              "      <td>Wearing the smile my momma gave me 💕💖👄⚡️🍓🧠💅🏼🍇 ...</td>\n",
              "      <td>wearing the smile my momma gave me self addict...</td>\n",
              "    </tr>\n",
              "    <tr>\n",
              "      <th>27196</th>\n",
              "      <td>108522</td>\n",
              "      <td>['1440294771709284363']</td>\n",
              "      <td>3526993403</td>\n",
              "      <td>2021-09-21T12:40:07.000Z</td>\n",
              "      <td>1440294771709284363</td>\n",
              "      <td>1.440295e+18</td>\n",
              "      <td>L.A. is Calling Again! 🎶 🎤 #singer #losangeles...</td>\n",
              "      <td>0051d76b1627f404</td>\n",
              "      <td>NaN</td>\n",
              "      <td>Los Angeles</td>\n",
              "      <td>0.0</td>\n",
              "      <td>NaN</td>\n",
              "      <td>NaN</td>\n",
              "      <td>NaN</td>\n",
              "      <td>['singer', 'losangeles', 'newjersey', 'sony', ...</td>\n",
              "      <td>L.A. is Calling Again! 🎶 🎤 singer los angeles ...</td>\n",
              "      <td>l a is calling again singer los angeles newjer...</td>\n",
              "    </tr>\n",
              "    <tr>\n",
              "      <th>27197</th>\n",
              "      <td>107637</td>\n",
              "      <td>['1314770648904994820']</td>\n",
              "      <td>32148675</td>\n",
              "      <td>2020-10-10T03:32:04.000Z</td>\n",
              "      <td>1314770648904994820</td>\n",
              "      <td>1.314771e+18</td>\n",
              "      <td>So get ready #LosAngeles!\\nUnless #Miami #Heat...</td>\n",
              "      <td>35f9d631a3650f85</td>\n",
              "      <td>NaN</td>\n",
              "      <td>Los Angeles</td>\n",
              "      <td>0.0</td>\n",
              "      <td>NaN</td>\n",
              "      <td>NaN</td>\n",
              "      <td>NaN</td>\n",
              "      <td>['LosAngeles', 'Miami', 'Heat', 'LeBronJames',...</td>\n",
              "      <td>So get ready los angeles!\\nUnless miami heat a...</td>\n",
              "      <td>so get ready los angeles unless miami heat att...</td>\n",
              "    </tr>\n",
              "    <tr>\n",
              "      <th>27198</th>\n",
              "      <td>107125</td>\n",
              "      <td>['1217178572462399489']</td>\n",
              "      <td>1196663730144075777</td>\n",
              "      <td>2020-01-14T20:16:00.000Z</td>\n",
              "      <td>1217178572462399489</td>\n",
              "      <td>1.217179e+18</td>\n",
              "      <td>That's the cop who threatened me worldstar @vi...</td>\n",
              "      <td>2da132a7bfebfc0c</td>\n",
              "      <td>NaN</td>\n",
              "      <td>Los Angeles</td>\n",
              "      <td>0.0</td>\n",
              "      <td>NaN</td>\n",
              "      <td>NaN</td>\n",
              "      <td>NaN</td>\n",
              "      <td>['pig', 'montebello', 'montebellopd', 'LosAnge...</td>\n",
              "      <td>That's the cop who threatened me worldstar @vi...</td>\n",
              "      <td>that s the cop who threatened me worldstar vic...</td>\n",
              "    </tr>\n",
              "    <tr>\n",
              "      <th>27199</th>\n",
              "      <td>110407</td>\n",
              "      <td>['1429969310424961030']</td>\n",
              "      <td>71337036</td>\n",
              "      <td>2021-08-24T00:50:25.000Z</td>\n",
              "      <td>1429969310424961030</td>\n",
              "      <td>1.429969e+18</td>\n",
              "      <td>Reposted from @catchandreleaseband @emonightpo...</td>\n",
              "      <td>6f24e28976abe656</td>\n",
              "      <td>NaN</td>\n",
              "      <td>Los Angeles</td>\n",
              "      <td>0.0</td>\n",
              "      <td>NaN</td>\n",
              "      <td>NaN</td>\n",
              "      <td>NaN</td>\n",
              "      <td>['band', 'visual', 'concertphotography', 'pict...</td>\n",
              "      <td>Reposted from @catchandreleaseband @emonightpo...</td>\n",
              "      <td>reposted from 21 2021 band visual concertphoto...</td>\n",
              "    </tr>\n",
              "  </tbody>\n",
              "</table>\n",
              "<p>27200 rows × 17 columns</p>\n",
              "</div>\n",
              "      <button class=\"colab-df-convert\" onclick=\"convertToInteractive('df-e7369655-c8ed-4f8b-b40e-4faeeafd2b79')\"\n",
              "              title=\"Convert this dataframe to an interactive table.\"\n",
              "              style=\"display:none;\">\n",
              "        \n",
              "  <svg xmlns=\"http://www.w3.org/2000/svg\" height=\"24px\"viewBox=\"0 0 24 24\"\n",
              "       width=\"24px\">\n",
              "    <path d=\"M0 0h24v24H0V0z\" fill=\"none\"/>\n",
              "    <path d=\"M18.56 5.44l.94 2.06.94-2.06 2.06-.94-2.06-.94-.94-2.06-.94 2.06-2.06.94zm-11 1L8.5 8.5l.94-2.06 2.06-.94-2.06-.94L8.5 2.5l-.94 2.06-2.06.94zm10 10l.94 2.06.94-2.06 2.06-.94-2.06-.94-.94-2.06-.94 2.06-2.06.94z\"/><path d=\"M17.41 7.96l-1.37-1.37c-.4-.4-.92-.59-1.43-.59-.52 0-1.04.2-1.43.59L10.3 9.45l-7.72 7.72c-.78.78-.78 2.05 0 2.83L4 21.41c.39.39.9.59 1.41.59.51 0 1.02-.2 1.41-.59l7.78-7.78 2.81-2.81c.8-.78.8-2.07 0-2.86zM5.41 20L4 18.59l7.72-7.72 1.47 1.35L5.41 20z\"/>\n",
              "  </svg>\n",
              "      </button>\n",
              "      \n",
              "  <style>\n",
              "    .colab-df-container {\n",
              "      display:flex;\n",
              "      flex-wrap:wrap;\n",
              "      gap: 12px;\n",
              "    }\n",
              "\n",
              "    .colab-df-convert {\n",
              "      background-color: #E8F0FE;\n",
              "      border: none;\n",
              "      border-radius: 50%;\n",
              "      cursor: pointer;\n",
              "      display: none;\n",
              "      fill: #1967D2;\n",
              "      height: 32px;\n",
              "      padding: 0 0 0 0;\n",
              "      width: 32px;\n",
              "    }\n",
              "\n",
              "    .colab-df-convert:hover {\n",
              "      background-color: #E2EBFA;\n",
              "      box-shadow: 0px 1px 2px rgba(60, 64, 67, 0.3), 0px 1px 3px 1px rgba(60, 64, 67, 0.15);\n",
              "      fill: #174EA6;\n",
              "    }\n",
              "\n",
              "    [theme=dark] .colab-df-convert {\n",
              "      background-color: #3B4455;\n",
              "      fill: #D2E3FC;\n",
              "    }\n",
              "\n",
              "    [theme=dark] .colab-df-convert:hover {\n",
              "      background-color: #434B5C;\n",
              "      box-shadow: 0px 1px 3px 1px rgba(0, 0, 0, 0.15);\n",
              "      filter: drop-shadow(0px 1px 2px rgba(0, 0, 0, 0.3));\n",
              "      fill: #FFFFFF;\n",
              "    }\n",
              "  </style>\n",
              "\n",
              "      <script>\n",
              "        const buttonEl =\n",
              "          document.querySelector('#df-e7369655-c8ed-4f8b-b40e-4faeeafd2b79 button.colab-df-convert');\n",
              "        buttonEl.style.display =\n",
              "          google.colab.kernel.accessAllowed ? 'block' : 'none';\n",
              "\n",
              "        async function convertToInteractive(key) {\n",
              "          const element = document.querySelector('#df-e7369655-c8ed-4f8b-b40e-4faeeafd2b79');\n",
              "          const dataTable =\n",
              "            await google.colab.kernel.invokeFunction('convertToInteractive',\n",
              "                                                     [key], {});\n",
              "          if (!dataTable) return;\n",
              "\n",
              "          const docLinkHtml = 'Like what you see? Visit the ' +\n",
              "            '<a target=\"_blank\" href=https://colab.research.google.com/notebooks/data_table.ipynb>data table notebook</a>'\n",
              "            + ' to learn more about interactive tables.';\n",
              "          element.innerHTML = '';\n",
              "          dataTable['output_type'] = 'display_data';\n",
              "          await google.colab.output.renderOutput(dataTable, element);\n",
              "          const docLink = document.createElement('div');\n",
              "          docLink.innerHTML = docLinkHtml;\n",
              "          element.appendChild(docLink);\n",
              "        }\n",
              "      </script>\n",
              "    </div>\n",
              "  </div>\n",
              "  "
            ]
          },
          "metadata": {},
          "execution_count": 12
        }
      ],
      "source": [
        "tweets_csv = pd.read_csv('./final_tweets_set.csv')\n",
        "tweets_csv"
      ]
    },
    {
      "cell_type": "code",
      "execution_count": 13,
      "metadata": {
        "id": "hDIYdU29QLRF"
      },
      "outputs": [],
      "source": [
        "### USE THE FOLLOWING IF THE DATA IS NOT ALREADY SAMPLED\n",
        "# data = tweets_csv.loc[~(tweets_csv.text_clean.str.len() < 56)]\n",
        "# seed = 12345\n",
        "# samples = []\n",
        "\n",
        "# for city in data.city.unique().tolist():\n",
        "#     samples.append(data[(data.city == city) & (data.inside == 1)].sample(n=300, random_state=seed))\n",
        "#     samples.append(data[(data.city == city) & (data.inside == 0)].sample(n=300, random_state=seed))\n",
        "\n",
        "# data = pd.concat(samples).text_clean\n",
        "\n",
        "\n",
        "# data = [re.sub('\\S*@\\S*\\s?', '', sent) for sent in data]\n",
        "# data = [re.sub('\\s+', ' ', sent) for sent in data]\n",
        "# data = [re.sub(\"\\'\", \"\", sent) for sent in data]"
      ]
    },
    {
      "cell_type": "code",
      "execution_count": 14,
      "metadata": {
        "id": "E9YoDHYORzmI"
      },
      "outputs": [],
      "source": [
        "data_words = list(sent_to_words(tweets_csv.text_clean))"
      ]
    },
    {
      "cell_type": "code",
      "execution_count": 15,
      "metadata": {
        "id": "lDPT622GBjy8"
      },
      "outputs": [],
      "source": [
        "common_words = ['give', 'get', 'go', 'want', 'gets', 'getting', 'wants']"
      ]
    },
    {
      "cell_type": "code",
      "execution_count": 16,
      "metadata": {
        "id": "pHvOC1t7QO8r"
      },
      "outputs": [],
      "source": [
        "def remove_stopwords(texts):\n",
        "   return [[word for word in simple_preprocess(str(doc)) \n",
        "   if word not in stop_words] for doc in texts]\n",
        "\n",
        "def remove_common_words(texts):\n",
        "   return [[word for word in simple_preprocess(str(doc)) \n",
        "   if word not in common_words] for doc in texts]\n",
        "\n",
        "def make_bigrams(texts):\n",
        "   return [bigram_mod[doc] for doc in texts]\n",
        "\n",
        "def make_trigrams(texts):\n",
        "   return [trigram_mod[bigram_mod[doc]] for doc in texts]\n",
        "\n",
        "def lemmatization(texts, allowed_postags=['NOUN', 'ADJ', 'VERB', 'ADV']):\n",
        "   texts_out = []\n",
        "   for sent in texts:\n",
        "      doc = nlp(\" \".join(sent))\n",
        "      texts_out.append([token.lemma_ for token in doc if token.pos_ in allowed_postags])\n",
        "   return texts_out"
      ]
    },
    {
      "cell_type": "code",
      "execution_count": 17,
      "metadata": {
        "id": "JzJyIkoXPzS1"
      },
      "outputs": [],
      "source": [
        "bigram = gensim.models.Phrases(data_words, min_count=5, threshold=100)\n",
        "trigram = gensim.models.Phrases(bigram[data_words], threshold=100)\n",
        "bigram_mod = gensim.models.phrases.Phraser(bigram)\n",
        "trigram_mod = gensim.models.phrases.Phraser(trigram)"
      ]
    },
    {
      "cell_type": "code",
      "execution_count": 18,
      "metadata": {
        "id": "DrGmJe1hQnTy"
      },
      "outputs": [],
      "source": [
        "data_words_nostops = remove_stopwords(data_words)\n",
        "data_words_nocommon = remove_common_words(data_words_nostops)\n",
        "data_words_bigrams = make_bigrams(data_words_nocommon)\n",
        "data_lemmatized = lemmatization(\n",
        "   data_words_bigrams, allowed_postags=['NOUN', 'ADJ', 'VERB', 'ADV']\n",
        ")"
      ]
    },
    {
      "cell_type": "code",
      "execution_count": 19,
      "metadata": {
        "colab": {
          "base_uri": "https://localhost:8080/"
        },
        "id": "dcfnnNDQRJ7v",
        "outputId": "957b8017-7de0-4cef-da85-8190d81617be"
      },
      "outputs": [
        {
          "output_type": "stream",
          "name": "stdout",
          "text": [
            "['ever', 'cross', 'mind', 'ready', 'show', 'gateway', 'limo']\n"
          ]
        }
      ],
      "source": [
        "print(data_lemmatized[0])"
      ]
    },
    {
      "cell_type": "code",
      "execution_count": 19,
      "metadata": {
        "id": "poAALE36QduC"
      },
      "outputs": [],
      "source": []
    },
    {
      "cell_type": "markdown",
      "metadata": {
        "id": "qLx3sT6UQd2k"
      },
      "source": [
        "# Creating the Model"
      ]
    },
    {
      "cell_type": "code",
      "execution_count": 20,
      "metadata": {
        "colab": {
          "base_uri": "https://localhost:8080/"
        },
        "id": "XnaLACI6QjJ5",
        "outputId": "db5f2e71-9029-4545-8cb0-e891d0860964"
      },
      "outputs": [
        {
          "output_type": "stream",
          "name": "stdout",
          "text": [
            "[(0, 1), (1, 1), (2, 1), (3, 1), (4, 1), (5, 1), (6, 1)]\n"
          ]
        }
      ],
      "source": [
        "id2word = corpora.Dictionary(data_lemmatized)\n",
        "texts = data_lemmatized\n",
        "corpus = [id2word.doc2bow(text) for text in texts]\n",
        "print(corpus[0])"
      ]
    },
    {
      "cell_type": "code",
      "execution_count": 21,
      "metadata": {
        "colab": {
          "base_uri": "https://localhost:8080/"
        },
        "id": "7mIHKZf8Qiiz",
        "outputId": "92e784a1-4a90-4570-95fb-80fad45b3023"
      },
      "outputs": [
        {
          "output_type": "execute_result",
          "data": {
            "text/plain": [
              "[[('cross', 1),\n",
              "  ('ever', 1),\n",
              "  ('gateway', 1),\n",
              "  ('limo', 1),\n",
              "  ('mind', 1),\n",
              "  ('ready', 1),\n",
              "  ('show', 1)],\n",
              " [('always', 1), ('follow', 1), ('park', 1), ('play_rabbit', 1), ('small', 1)],\n",
              " [('block', 1), ('dfw_traffic', 1)],\n",
              " [('championship', 1), ('cowboy', 1), ('man', 2), ('pickup', 1), ('rodeo', 1)]]"
            ]
          },
          "metadata": {},
          "execution_count": 21
        }
      ],
      "source": [
        "[[(id2word[id], freq) for id, freq in cp] for cp in corpus[:4]]"
      ]
    },
    {
      "cell_type": "code",
      "execution_count": 22,
      "metadata": {
        "id": "p-3SSC1OSMSi"
      },
      "outputs": [],
      "source": [
        "lda_model = gensim.models.ldamodel.LdaModel(\n",
        "   corpus=corpus, id2word=id2word, num_topics=15, random_state=100, \n",
        "   update_every=1, chunksize=100, passes=20, alpha='auto', per_word_topics=True\n",
        ")"
      ]
    },
    {
      "cell_type": "code",
      "execution_count": 22,
      "metadata": {
        "id": "LEUN2QmaSeer"
      },
      "outputs": [],
      "source": []
    },
    {
      "cell_type": "markdown",
      "metadata": {
        "id": "wfP5Z9K_Se2H"
      },
      "source": [
        "# Viewing Results"
      ]
    },
    {
      "cell_type": "code",
      "execution_count": 23,
      "metadata": {
        "colab": {
          "base_uri": "https://localhost:8080/"
        },
        "id": "7LP-VTn6Sdl8",
        "outputId": "32f9031b-762b-4806-ca4d-f1311d67b5f8"
      },
      "outputs": [
        {
          "output_type": "stream",
          "name": "stdout",
          "text": [
            "[(0,\n",
            "  '0.153*\"come\" + 0.108*\"back\" + 0.105*\"let\" + 0.059*\"play\" + 0.050*\"old\" + '\n",
            "  '0.045*\"visit\" + 0.033*\"birthday\" + 0.029*\"listen\" + 0.027*\"school\" + '\n",
            "  '0.024*\"trip\"'),\n",
            " (1,\n",
            "  '0.361*\"new\" + 0.078*\"art\" + 0.070*\"home\" + 0.037*\"beautiful\" + '\n",
            "  '0.032*\"morning\" + 0.031*\"family\" + 0.029*\"ready\" + 0.022*\"house\" + '\n",
            "  '0.022*\"close\" + 0.021*\"drop\"'),\n",
            " (2,\n",
            "  '0.665*\"los_angele\" + 0.032*\"help\" + 0.024*\"know\" + 0.016*\"business_dentist\" '\n",
            "  '+ 0.016*\"cbd_oil\" + 0.016*\"hair_salon\" + 0.016*\"restart\" + '\n",
            "  '0.016*\"restaurants_veterinarian\" + 0.016*\"janitorial_service\" + '\n",
            "  '0.014*\"philly\"'),\n",
            " (3,\n",
            "  '0.081*\"love\" + 0.059*\"look\" + 0.030*\"fashion\" + 0.029*\"need\" + '\n",
            "  '0.029*\"friend\" + 0.026*\"share\" + 0.024*\"available\" + 0.024*\"s\" + '\n",
            "  '0.023*\"style\" + 0.023*\"call\"'),\n",
            " (4,\n",
            "  '0.067*\"studio\" + 0.064*\"color\" + 0.053*\"ask\" + 0.050*\"tattoo\" + '\n",
            "  '0.039*\"company\" + 0.034*\"sound\" + 0.021*\"ink\" + 0.020*\"pencil\" + '\n",
            "  '0.018*\"pen\" + 0.014*\"skin\"'),\n",
            " (5,\n",
            "  '0.076*\"music\" + 0.064*\"day\" + 0.034*\"see\" + 0.034*\"time\" + 0.032*\"today\" + '\n",
            "  '0.024*\"go\" + 0.024*\"vibe\" + 0.023*\"artist\" + 0.022*\"live\" + 0.022*\"photo\"'),\n",
            " (6,\n",
            "  '0.143*\"photography\" + 0.092*\"work\" + 0.053*\"model\" + 0.043*\"matter\" + '\n",
            "  '0.040*\"area\" + 0.039*\"portrait\" + 0.038*\"black_live\" + 0.037*\"move\" + '\n",
            "  '0.034*\"picture\" + 0.029*\"girl\"'),\n",
            " (7,\n",
            "  '0.092*\"year\" + 0.086*\"happy\" + 0.064*\"open\" + 0.063*\"last\" + '\n",
            "  '0.052*\"tonight\" + 0.037*\"team\" + 0.034*\"thing\" + 0.031*\"free\" + '\n",
            "  '0.031*\"explore\" + 0.028*\"bring\"'),\n",
            " (8,\n",
            "  '0.071*\"make\" + 0.056*\"city\" + 0.051*\"show\" + 0.050*\"thank\" + 0.046*\"night\" '\n",
            "  '+ 0.046*\"actor\" + 0.042*\"great\" + 0.034*\"real_estate\" + 0.033*\"check\" + '\n",
            "  '0.031*\"film\"'),\n",
            " (9,\n",
            "  '0.089*\"stop\" + 0.073*\"traffic\" + 0.064*\"leave\" + 0.056*\"fall\" + '\n",
            "  '0.044*\"main\" + 0.042*\"side\" + 0.031*\"rise\" + 0.030*\"block\" + 0.022*\"jam\" + '\n",
            "  '0.019*\"slow\"'),\n",
            " (10,\n",
            "  '0.128*\"people\" + 0.092*\"event\" + 0.085*\"way\" + 0.048*\"beauty\" + 0.048*\"pic\" '\n",
            "  '+ 0.045*\"meet\" + 0.024*\"room\" + 0.019*\"couple\" + 0.018*\"natural\" + '\n",
            "  '0.015*\"estate\"'),\n",
            " (11,\n",
            "  '0.280*\"good\" + 0.142*\"take\" + 0.121*\"black\" + 0.031*\"gold\" + 0.028*\"wish\" + '\n",
            "  '0.028*\"police\" + 0.023*\"actress\" + 0.022*\"class\" + 0.013*\"cat\" + '\n",
            "  '0.008*\"shout\"'),\n",
            " (12,\n",
            "  '0.079*\"travel\" + 0.053*\"video\" + 0.046*\"dream\" + 0.043*\"fun\" + 0.040*\"miss\" '\n",
            "  '+ 0.036*\"protest\" + 0.030*\"find\" + 0.028*\"car\" + 0.028*\"song\" + '\n",
            "  '0.028*\"head\"'),\n",
            " (13,\n",
            "  '0.074*\"win\" + 0.048*\"state\" + 0.047*\"exit\" + 0.034*\"wheel\" + 0.034*\"custom\" '\n",
            "  '+ 0.025*\"connect\" + 0.022*\"series\" + 0.016*\"award\" + 0.010*\"rally\" + '\n",
            "  '0.004*\"ramp\"'),\n",
            " (14,\n",
            "  '0.097*\"m\" + 0.089*\"follow\" + 0.053*\"shop\" + 0.050*\"book\" + 0.043*\"always\" + '\n",
            "  '0.041*\"next\" + 0.039*\"sale\" + 0.039*\"say\" + 0.032*\"spot\" + 0.030*\"park\"')]\n"
          ]
        }
      ],
      "source": [
        "pprint(lda_model.print_topics())\n",
        "doc_lda = lda_model[corpus]"
      ]
    },
    {
      "cell_type": "code",
      "execution_count": 24,
      "metadata": {
        "colab": {
          "base_uri": "https://localhost:8080/"
        },
        "id": "UuvKgULASdoA",
        "outputId": "49871060-f258-4321-a17e-84256a0c44d1"
      },
      "outputs": [
        {
          "output_type": "stream",
          "name": "stdout",
          "text": [
            "\n",
            "Perplexity:  -15.49846179995724\n"
          ]
        }
      ],
      "source": [
        "print('\\nPerplexity: ', lda_model.log_perplexity(corpus))"
      ]
    },
    {
      "cell_type": "code",
      "execution_count": 25,
      "metadata": {
        "colab": {
          "base_uri": "https://localhost:8080/"
        },
        "id": "nnc6bdc8SdqV",
        "outputId": "d91c91ef-2824-4a07-fa32-150835df3065"
      },
      "outputs": [
        {
          "output_type": "stream",
          "name": "stdout",
          "text": [
            "\n",
            "Coherence Score:  0.33501288109744426\n"
          ]
        }
      ],
      "source": [
        "coherence_model_lda = CoherenceModel(\n",
        "   model=lda_model, texts=data_lemmatized, dictionary=id2word, coherence='c_v'\n",
        ")\n",
        "coherence_lda = coherence_model_lda.get_coherence()\n",
        "print('\\nCoherence Score: ', coherence_lda)"
      ]
    },
    {
      "cell_type": "code",
      "execution_count": 26,
      "metadata": {
        "colab": {
          "base_uri": "https://localhost:8080/",
          "height": 839
        },
        "id": "kM3Yme5GUflh",
        "outputId": "8f5b39da-ec36-4234-a003-042ebd3e3b29"
      },
      "outputs": [
        {
          "output_type": "stream",
          "name": "stdout",
          "text": [
            "Looking in indexes: https://pypi.org/simple, https://us-python.pkg.dev/colab-wheels/public/simple/\n",
            "Collecting pyLDAvis\n",
            "  Downloading pyLDAvis-3.4.1-py3-none-any.whl (2.6 MB)\n",
            "\u001b[2K     \u001b[90m━━━━━━━━━━━━━━━━━━━━━━━━━━━━━━━━━━━━━━━━\u001b[0m \u001b[32m2.6/2.6 MB\u001b[0m \u001b[31m21.9 MB/s\u001b[0m eta \u001b[36m0:00:00\u001b[0m\n",
            "\u001b[?25hCollecting numpy>=1.24.2 (from pyLDAvis)\n",
            "  Downloading numpy-1.24.3-cp310-cp310-manylinux_2_17_x86_64.manylinux2014_x86_64.whl (17.3 MB)\n",
            "\u001b[2K     \u001b[90m━━━━━━━━━━━━━━━━━━━━━━━━━━━━━━━━━━━━━━━━\u001b[0m \u001b[32m17.3/17.3 MB\u001b[0m \u001b[31m49.5 MB/s\u001b[0m eta \u001b[36m0:00:00\u001b[0m\n",
            "\u001b[?25hRequirement already satisfied: scipy in /usr/local/lib/python3.10/dist-packages (from pyLDAvis) (1.10.1)\n",
            "Collecting pandas>=2.0.0 (from pyLDAvis)\n",
            "  Downloading pandas-2.0.1-cp310-cp310-manylinux_2_17_x86_64.manylinux2014_x86_64.whl (12.3 MB)\n",
            "\u001b[2K     \u001b[90m━━━━━━━━━━━━━━━━━━━━━━━━━━━━━━━━━━━━━━━━\u001b[0m \u001b[32m12.3/12.3 MB\u001b[0m \u001b[31m66.3 MB/s\u001b[0m eta \u001b[36m0:00:00\u001b[0m\n",
            "\u001b[?25hRequirement already satisfied: joblib>=1.2.0 in /usr/local/lib/python3.10/dist-packages (from pyLDAvis) (1.2.0)\n",
            "Requirement already satisfied: jinja2 in /usr/local/lib/python3.10/dist-packages (from pyLDAvis) (3.1.2)\n",
            "Requirement already satisfied: numexpr in /usr/local/lib/python3.10/dist-packages (from pyLDAvis) (2.8.4)\n",
            "Collecting funcy (from pyLDAvis)\n",
            "  Downloading funcy-2.0-py2.py3-none-any.whl (30 kB)\n",
            "Requirement already satisfied: scikit-learn>=1.0.0 in /usr/local/lib/python3.10/dist-packages (from pyLDAvis) (1.2.2)\n",
            "Requirement already satisfied: gensim in /usr/local/lib/python3.10/dist-packages (from pyLDAvis) (4.3.1)\n",
            "Requirement already satisfied: setuptools in /usr/local/lib/python3.10/dist-packages (from pyLDAvis) (67.7.2)\n",
            "Requirement already satisfied: python-dateutil>=2.8.2 in /usr/local/lib/python3.10/dist-packages (from pandas>=2.0.0->pyLDAvis) (2.8.2)\n",
            "Requirement already satisfied: pytz>=2020.1 in /usr/local/lib/python3.10/dist-packages (from pandas>=2.0.0->pyLDAvis) (2022.7.1)\n",
            "Requirement already satisfied: tzdata>=2022.1 in /usr/local/lib/python3.10/dist-packages (from pandas>=2.0.0->pyLDAvis) (2023.3)\n",
            "Requirement already satisfied: threadpoolctl>=2.0.0 in /usr/local/lib/python3.10/dist-packages (from scikit-learn>=1.0.0->pyLDAvis) (3.1.0)\n",
            "Requirement already satisfied: smart-open>=1.8.1 in /usr/local/lib/python3.10/dist-packages (from gensim->pyLDAvis) (6.3.0)\n",
            "Requirement already satisfied: MarkupSafe>=2.0 in /usr/local/lib/python3.10/dist-packages (from jinja2->pyLDAvis) (2.1.2)\n",
            "Requirement already satisfied: six>=1.5 in /usr/local/lib/python3.10/dist-packages (from python-dateutil>=2.8.2->pandas>=2.0.0->pyLDAvis) (1.16.0)\n",
            "Installing collected packages: funcy, numpy, pandas, pyLDAvis\n",
            "  Attempting uninstall: numpy\n",
            "    Found existing installation: numpy 1.22.4\n",
            "    Uninstalling numpy-1.22.4:\n",
            "      Successfully uninstalled numpy-1.22.4\n",
            "  Attempting uninstall: pandas\n",
            "    Found existing installation: pandas 1.5.3\n",
            "    Uninstalling pandas-1.5.3:\n",
            "      Successfully uninstalled pandas-1.5.3\n",
            "\u001b[31mERROR: pip's dependency resolver does not currently take into account all the packages that are installed. This behaviour is the source of the following dependency conflicts.\n",
            "google-colab 1.0.0 requires pandas==1.5.3, but you have pandas 2.0.1 which is incompatible.\n",
            "numba 0.56.4 requires numpy<1.24,>=1.18, but you have numpy 1.24.3 which is incompatible.\n",
            "tensorflow 2.12.0 requires numpy<1.24,>=1.22, but you have numpy 1.24.3 which is incompatible.\u001b[0m\u001b[31m\n",
            "\u001b[0mSuccessfully installed funcy-2.0 numpy-1.24.3 pandas-2.0.1 pyLDAvis-3.4.1\n"
          ]
        },
        {
          "output_type": "display_data",
          "data": {
            "application/vnd.colab-display-data+json": {
              "pip_warning": {
                "packages": [
                  "numpy",
                  "pandas"
                ]
              }
            }
          },
          "metadata": {}
        }
      ],
      "source": [
        "! pip install pyLDAvis"
      ]
    },
    {
      "cell_type": "code",
      "execution_count": 27,
      "metadata": {
        "colab": {
          "base_uri": "https://localhost:8080/",
          "height": 411
        },
        "id": "PzllMIluVZz7",
        "outputId": "cc9af5bb-ccc6-42da-9ebd-3c0898e5bb25"
      },
      "outputs": [
        {
          "output_type": "stream",
          "name": "stdout",
          "text": [
            "Looking in indexes: https://pypi.org/simple, https://us-python.pkg.dev/colab-wheels/public/simple/\n",
            "Collecting pandas<2.0.0\n",
            "  Downloading pandas-1.5.3-cp310-cp310-manylinux_2_17_x86_64.manylinux2014_x86_64.whl (12.1 MB)\n",
            "\u001b[2K     \u001b[90m━━━━━━━━━━━━━━━━━━━━━━━━━━━━━━━━━━━━━━━━\u001b[0m \u001b[32m12.1/12.1 MB\u001b[0m \u001b[31m52.6 MB/s\u001b[0m eta \u001b[36m0:00:00\u001b[0m\n",
            "\u001b[?25hRequirement already satisfied: python-dateutil>=2.8.1 in /usr/local/lib/python3.10/dist-packages (from pandas<2.0.0) (2.8.2)\n",
            "Requirement already satisfied: pytz>=2020.1 in /usr/local/lib/python3.10/dist-packages (from pandas<2.0.0) (2022.7.1)\n",
            "Requirement already satisfied: numpy>=1.21.0 in /usr/local/lib/python3.10/dist-packages (from pandas<2.0.0) (1.24.3)\n",
            "Requirement already satisfied: six>=1.5 in /usr/local/lib/python3.10/dist-packages (from python-dateutil>=2.8.1->pandas<2.0.0) (1.16.0)\n",
            "Installing collected packages: pandas\n",
            "  Attempting uninstall: pandas\n",
            "    Found existing installation: pandas 2.0.1\n",
            "    Uninstalling pandas-2.0.1:\n",
            "      Successfully uninstalled pandas-2.0.1\n",
            "\u001b[31mERROR: pip's dependency resolver does not currently take into account all the packages that are installed. This behaviour is the source of the following dependency conflicts.\n",
            "pyldavis 3.4.1 requires pandas>=2.0.0, but you have pandas 1.5.3 which is incompatible.\u001b[0m\u001b[31m\n",
            "\u001b[0mSuccessfully installed pandas-1.5.3\n"
          ]
        },
        {
          "output_type": "display_data",
          "data": {
            "application/vnd.colab-display-data+json": {
              "pip_warning": {
                "packages": [
                  "pandas"
                ]
              }
            }
          },
          "metadata": {}
        }
      ],
      "source": [
        "! pip install \"pandas<2.0.0\""
      ]
    },
    {
      "cell_type": "code",
      "execution_count": 28,
      "metadata": {
        "id": "-okrq4gNUbHJ"
      },
      "outputs": [],
      "source": [
        "import pyLDAvis\n",
        "import pyLDAvis.gensim"
      ]
    },
    {
      "cell_type": "code",
      "execution_count": 29,
      "metadata": {
        "colab": {
          "base_uri": "https://localhost:8080/",
          "height": 917
        },
        "id": "ljPJgx-SSdtB",
        "outputId": "ace2d87e-6237-45e1-8513-69296a274c29"
      },
      "outputs": [
        {
          "output_type": "stream",
          "name": "stderr",
          "text": [
            "/usr/local/lib/python3.10/dist-packages/ipykernel/ipkernel.py:283: DeprecationWarning: `should_run_async` will not call `transform_cell` automatically in the future. Please pass the result to `transformed_cell` argument and any exception that happen during thetransform in `preprocessing_exc_tuple` in IPython 7.17 and above.\n",
            "  and should_run_async(code)\n"
          ]
        },
        {
          "output_type": "execute_result",
          "data": {
            "text/plain": [
              "PreparedData(topic_coordinates=              x         y  topics  cluster       Freq\n",
              "topic                                                \n",
              "5     -0.305923 -0.324440       1        1  24.040333\n",
              "3     -0.154551  0.029215       2        1  13.130188\n",
              "8     -0.092075  0.016564       3        1  10.380283\n",
              "2     -0.261699  0.327319       4        1   9.311811\n",
              "1     -0.061074  0.009711       5        1   7.735816\n",
              "7      0.004941  0.000425       6        1   6.545961\n",
              "12     0.021071 -0.001263       7        1   5.834793\n",
              "14     0.035298 -0.002568       8        1   5.217623\n",
              "0      0.057979 -0.004419       9        1   4.841128\n",
              "6      0.081290 -0.006072      10        1   3.458167\n",
              "11     0.099027 -0.007147      11        1   2.841163\n",
              "9      0.137800 -0.009056      12        1   2.783169\n",
              "10     0.132212 -0.008825      13        1   2.128418\n",
              "13     0.156515 -0.009906      14        1   0.882969\n",
              "4      0.149190 -0.009538      15        1   0.868178, topic_info=             Term          Freq         Total Category  logprob  loglift\n",
              "2437   los_angele  15567.000000  15567.000000  Default  30.0000  30.0000\n",
              "32            new   7015.000000   7015.000000  Default  29.0000  29.0000\n",
              "662          good   1997.000000   1997.000000  Default  28.0000  28.0000\n",
              "180         music   4612.000000   4612.000000  Default  27.0000  27.0000\n",
              "167          come   1863.000000   1863.000000  Default  26.0000  26.0000\n",
              "...           ...           ...           ...      ...      ...      ...\n",
              "6796   watercolor      0.064431      1.496089  Topic15 -10.4301   1.6015\n",
              "21028    inkdrawe      0.056152      1.486834  Topic15 -10.5676   1.4702\n",
              "798          body      0.056511      1.506712  Topic15 -10.5612   1.4633\n",
              "808           com      0.054314      1.501758  Topic15 -10.6009   1.4269\n",
              "1722        email      0.053825      1.495243  Topic15 -10.6099   1.4222\n",
              "\n",
              "[500 rows x 6 columns], token_table=      Topic      Freq              Term\n",
              "term                                   \n",
              "19       12  0.989408          accident\n",
              "87       12  0.947966  accident_cleared\n",
              "1535      3  0.998533             actor\n",
              "7526     11  0.989517           actress\n",
              "589       5  0.989277             album\n",
              "...     ...       ...               ...\n",
              "368       3  0.996999             woman\n",
              "228       4  0.978116              word\n",
              "121      10  0.997742              work\n",
              "1673      1  0.998530             world\n",
              "35        6  0.999305              year\n",
              "\n",
              "[387 rows x 3 columns], R=30, lambda_step=0.01, plot_opts={'xlab': 'PC1', 'ylab': 'PC2'}, topic_order=[6, 4, 9, 3, 2, 8, 13, 15, 1, 7, 12, 10, 11, 14, 5])"
            ],
            "text/html": [
              "\n",
              "<link rel=\"stylesheet\" type=\"text/css\" href=\"https://cdn.jsdelivr.net/gh/bmabey/pyLDAvis@3.4.0/pyLDAvis/js/ldavis.v1.0.0.css\">\n",
              "\n",
              "\n",
              "<div id=\"ldavis_el8811397678178961124527804793\" style=\"background-color:white;\"></div>\n",
              "<script type=\"text/javascript\">\n",
              "\n",
              "var ldavis_el8811397678178961124527804793_data = {\"mdsDat\": {\"x\": [-0.3059231886019938, -0.15455085317497022, -0.09207471845486151, -0.26169946082913453, -0.06107403999894569, 0.00494113726335917, 0.021070896690776476, 0.03529790728372733, 0.05797948673959187, 0.0812900906304218, 0.09902659798466153, 0.13779950960674758, 0.13221154781775984, 0.15651536842476108, 0.14918971861809907], \"y\": [-0.32443986580852546, 0.029215040420208106, 0.016564314884624603, 0.32731941754273, 0.009711096637599859, 0.000424771757424774, -0.0012632001708376597, -0.0025675591955074046, -0.004419489518196978, -0.006071955812831443, -0.007146732385311667, -0.009056459622410131, -0.008825094670452657, -0.009905917842447015, -0.009538366216066954], \"topics\": [1, 2, 3, 4, 5, 6, 7, 8, 9, 10, 11, 12, 13, 14, 15], \"cluster\": [1, 1, 1, 1, 1, 1, 1, 1, 1, 1, 1, 1, 1, 1, 1], \"Freq\": [24.040333192056625, 13.130188451398189, 10.380282924124472, 9.311811193997151, 7.735815548676051, 6.545960826625762, 5.83479342997498, 5.2176234155872, 4.841128438572766, 3.458166597840827, 2.8411630655566604, 2.783168928122688, 2.128417783367185, 0.8829686266168232, 0.8681775774826193]}, \"tinfo\": {\"Term\": [\"los_angele\", \"new\", \"good\", \"music\", \"come\", \"day\", \"love\", \"make\", \"photography\", \"year\", \"back\", \"look\", \"let\", \"happy\", \"art\", \"m\", \"take\", \"home\", \"follow\", \"city\", \"travel\", \"black\", \"show\", \"thank\", \"see\", \"open\", \"time\", \"last\", \"night\", \"actor\", \"music\", \"day\", \"see\", \"time\", \"today\", \"go\", \"vibe\", \"artist\", \"live\", \"photo\", \"life\", \"get\", \"game\", \"world\", \"walk\", \"week\", \"rock\", \"first\", \"street\", \"still\", \"pm\", \"shoot\", \"beat\", \"vote\", \"start\", \"downtown\", \"enjoy\", \"link\", \"join\", \"watch\", \"love\", \"look\", \"fashion\", \"need\", \"friend\", \"share\", \"available\", \"s\", \"style\", \"call\", \"food\", \"summer\", \"stay\", \"business\", \"also\", \"store\", \"favorite\", \"tomorrow\", \"hot\", \"place\", \"never\", \"post\", \"light\", \"top\", \"lot\", \"big\", \"tour\", \"ve\", \"dog\", \"gift\", \"make\", \"city\", \"show\", \"thank\", \"night\", \"actor\", \"great\", \"real_estate\", \"check\", \"film\", \"well\", \"weekend\", \"support\", \"feel\", \"set\", \"think\", \"amazing\", \"movie\", \"many\", \"community\", \"soon\", \"woman\", \"podcast\", \"tell\", \"month\", \"talk\", \"early\", \"sell\", \"scene\", \"fire\", \"los_angele\", \"help\", \"know\", \"business_dentist\", \"cbd_oil\", \"hair_salon\", \"restart\", \"restaurants_veterinarian\", \"janitorial_service\", \"philly\", \"much\", \"long\", \"experience\", \"create\", \"money\", \"design\", \"ebay_link\", \"contact\", \"river\", \"word\", \"postcard_markete\", \"marketing\", \"spread\", \"rare_collectible\", \"healthy\", \"card\", \"silver_fronti\", \"twin_lake\", \"see_image\", \"todays_sale\", \"new\", \"art\", \"home\", \"beautiful\", \"morning\", \"family\", \"ready\", \"house\", \"close\", \"drop\", \"jazz\", \"happen\", \"restaurant\", \"ever\", \"french_quarter\", \"pick\", \"remember\", \"album\", \"voice\", \"nola\", \"bed\", \"reach\", \"relax\", \"mind\", \"mini\", \"sleep\", \"client\", \"bounce\", \"gladiator\", \"nurse\", \"year\", \"happy\", \"open\", \"last\", \"tonight\", \"team\", \"thing\", \"free\", \"explore\", \"bring\", \"man\", \"guy\", \"end\", \"season\", \"sunset\", \"location\", \"boy\", \"holiday\", \"center\", \"break\", \"auction\", \"everyday\", \"health\", \"report\", \"delivery\", \"sale_sale\", \"frontier_silver\", \"cheer\", \"gold_coin\", \"championship\", \"travel\", \"video\", \"dream\", \"fun\", \"miss\", \"protest\", \"find\", \"car\", \"song\", \"head\", \"drive\", \"service\", \"high\", \"hair\", \"use\", \"line\", \"wedding\", \"bless\", \"even\", \"water\", \"fight\", \"detail\", \"short\", \"flight\", \"offer\", \"group\", \"garden\", \"truck\", \"here\", \"sweet\", \"m\", \"follow\", \"shop\", \"book\", \"always\", \"next\", \"sale\", \"say\", \"spot\", \"park\", \"really\", \"full\", \"story\", \"comedy\", \"market\", \"singer\", \"small\", \"price\", \"host\", \"coffee\", \"pop\", \"stand\", \"throwback\", \"apple\", \"excited\", \"culture\", \"rnb\", \"appointment\", \"pie\", \"singer_songwriter\", \"come\", \"back\", \"let\", \"play\", \"old\", \"visit\", \"birthday\", \"listen\", \"school\", \"trip\", \"celebrate\", \"shot\", \"together\", \"finally\", \"ice_cream\", \"land\", \"tune\", \"grab\", \"cold\", \"website\", \"closed_due\", \"ice_creamtruck\", \"baton_rouge\", \"station\", \"cant_wait\", \"lafayette_northshore\", \"qb_development\", \"qb_traine\", \"track\", \"massage\", \"dodger\", \"baby\", \"blue\", \"socal\", \"laker\", \"photography\", \"work\", \"model\", \"matter\", \"area\", \"portrait\", \"black_live\", \"move\", \"picture\", \"girl\", \"white\", \"photographer\", \"road\", \"oak\", \"photoshoot\", \"rain\", \"tree\", \"challenge\", \"crew\", \"clear\", \"construction\", \"medium\", \"magazine\", \"cruise\", \"lift\", \"progress\", \"teamwork\", \"tree_worker\", \"crane\", \"dtla\", \"pittsburgh\", \"good\", \"take\", \"black\", \"gold\", \"wish\", \"police\", \"actress\", \"class\", \"cat\", \"shout\", \"happy_birthday\", \"celebrity\", \"possibly\", \"lawyer\", \"beer_wine\", \"vegas\", \"emde_egee\", \"field_advantage\", \"twitter\", \"saints_dome\", \"las_vegas\", \"mamba\", \"fashion_radiogod\", \"gospel_pastor\", \"morning_inspiration\", \"anointed_radio\", \"lovebest\", \"bridgetfonda\", \"outfit\", \"single\", \"fry\", \"la\", \"stop\", \"traffic\", \"leave\", \"fall\", \"main\", \"side\", \"rise\", \"block\", \"jam\", \"slow\", \"lane\", \"accident\", \"vine_st\", \"crash\", \"serious\", \"involve\", \"exit_jamme\", \"extremely\", \"accident_cleared\", \"express\", \"shoulder_blocke\", \"expwy\", \"road_construction\", \"left_lane\", \"right_lane\", \"two_lane\", \"nb\", \"lane_blocke\", \"pkwy\", \"roosevelt_blvd\", \"people\", \"event\", \"way\", \"beauty\", \"pic\", \"meet\", \"room\", \"couple\", \"natural\", \"estate\", \"tired\", \"low\", \"click\", \"warm\", \"dead\", \"call_text\", \"f\", \"haunted_hill\", \"mmafighter\", \"editorial\", \"date\", \"recording\", \"shopping\", \"jcole\", \"dave_phillip\", \"lapelpin\", \"miseducate\", \"add\", \"success\", \"press\", \"invite\", \"energy\", \"crazy\", \"lucious\", \"digital\", \"lose\", \"power\", \"clean\", \"win\", \"state\", \"exit\", \"wheel\", \"custom\", \"connect\", \"series\", \"award\", \"rally\", \"ramp\", \"allegheny_ave\", \"recap\", \"rim\", \"tire\", \"gear\", \"niche\", \"alloy\", \"roti\", \"dub\", \"mag\", \"fuel\", \"form\", \"mandate\", \"star\", \"spear\", \"hairtransplant\", \"artistic\", \"defeat\", \"palm_spring\", \"candidate\", \"promo\", \"laker\", \"team_nutz\", \"exit_jamme\", \"studio\", \"color\", \"ask\", \"tattoo\", \"company\", \"sound\", \"ink\", \"pencil\", \"pen\", \"skin\", \"weird\", \"skincare\", \"drawing_pen\", \"random\", \"ritz_sullivan\", \"surreal\", \"facial\", \"grotesque\", \"liner\", \"ink_copic\", \"staedtler\", \"surreal_grotesque\", \"copic_marker\", \"artistsloftpen\", \"artistsloft\", \"watercolor\", \"inkdrawe\", \"body\", \"com\", \"email\"], \"Freq\": [15567.0, 7015.0, 1997.0, 4612.0, 1863.0, 3855.0, 2659.0, 1861.0, 1240.0, 1511.0, 1314.0, 1949.0, 1283.0, 1420.0, 1511.0, 1268.0, 1016.0, 1357.0, 1166.0, 1458.0, 1152.0, 863.0, 1325.0, 1313.0, 2074.0, 1060.0, 2030.0, 1039.0, 1213.0, 1203.0, 4610.894312692877, 3854.4679489028667, 2073.630473747382, 2028.7253022402288, 1930.0032005914202, 1462.1302456014562, 1449.681556798725, 1393.0400339996547, 1348.6048026892092, 1333.8760711840125, 1297.5577738889726, 1104.1706309294084, 1065.4392762497891, 996.1068924010251, 959.1926173086281, 914.4757144674452, 861.8683514245239, 850.7572929254724, 800.1914014123585, 765.9746685745787, 737.817418455172, 729.5885135356177, 694.9969876362635, 663.9059872945935, 628.7881981457411, 616.0654900951689, 542.2307505639143, 536.1256354820918, 536.0199101911898, 529.1618329790579, 2657.8004516905366, 1948.1666739284192, 978.6082922639596, 969.6396355309687, 964.1143726083471, 856.3948556427988, 806.9601753545724, 798.7435163952119, 765.0084107137653, 755.1760782378195, 732.8882409948965, 722.6491474837331, 631.1599366963009, 623.7105182933955, 603.9173345556713, 553.0949464020565, 531.1098750792727, 469.32884801720076, 468.77933955008655, 466.1671998377528, 460.39169098661984, 452.41237076063686, 412.63141195283765, 406.98506724729396, 400.3714819235548, 397.0157033830107, 388.676118755709, 376.42482425459906, 370.42565215064707, 369.12740344010297, 1860.4487601222054, 1456.7712585142026, 1323.658434284639, 1312.0063501068414, 1211.6863377557459, 1202.405564126004, 1103.9615313995005, 888.0067724950997, 861.6692002852768, 806.5503455651758, 783.9287756805264, 626.2813760280783, 617.5550192942285, 614.7238488423409, 600.9284404508894, 572.2778176279953, 553.7014988754049, 496.5736725023108, 481.8826451603703, 461.6363702396806, 455.80911338983555, 424.9187143341512, 396.78212975329404, 378.8596439324408, 353.55488577438217, 349.64418156473556, 326.3166169133148, 279.1877794318536, 268.1715254285691, 258.1929445208341, 15565.98223156375, 745.4804280427882, 571.7468048601745, 372.9064184488858, 372.9064184488858, 372.9064184488858, 372.9064184488858, 372.9064184488858, 369.1461794921593, 317.1885526794429, 289.65892294148074, 212.4462870941886, 166.60652408033448, 158.72469429069318, 106.11732062581369, 100.50859682572322, 100.29849838866316, 82.86908403042744, 78.47475752932078, 78.32329704297756, 76.46320665835479, 75.70345780033571, 65.46602460320985, 64.81893122456457, 59.38901448902283, 58.83028668227174, 50.58350348462425, 50.58350348462425, 49.07596546955465, 48.01500650267788, 7013.9084504415005, 1509.7198785125424, 1356.0584115929591, 723.4861356317379, 619.2956545304087, 604.8395850398563, 573.4768621652624, 437.25562657207007, 425.3807200086078, 416.97340015579675, 352.2047510256028, 314.91183529530025, 308.8206094494573, 285.50948176417467, 240.45674582050137, 227.90013776035087, 174.6574239937262, 163.38768570800707, 137.73839304488004, 132.84510128114334, 128.52507537457222, 107.15004620711407, 102.85640950485157, 100.74456703394202, 89.81871221815989, 82.89591411153653, 75.84361426644507, 74.63265306083967, 68.6178880107396, 29.581093994202448, 1509.683278890719, 1419.2078151501137, 1059.5714962258905, 1038.6274220463094, 860.4653321676282, 610.1998981604279, 562.5784752670297, 515.3006701123835, 504.7469418426828, 462.33497100769, 401.21495392694396, 400.14929156576017, 396.78732874603605, 392.7540642123314, 350.8063787329271, 306.8228179030307, 285.3889643462237, 279.6143845942387, 244.09123853023453, 239.6424704708052, 220.5533008583143, 217.04643271608631, 157.00373722156382, 143.51816582171102, 133.5186873878, 108.35303150687245, 106.86372254754794, 104.008261896286, 84.79273294277687, 82.77747955930637, 1151.256415260608, 770.0821369766223, 672.0111777557082, 628.3995396158274, 581.1688934967023, 529.3090461248703, 443.04346781030335, 415.09504216449176, 412.6336622526901, 408.8479366034838, 389.37116666045546, 385.8911264899868, 373.53651137242304, 353.9136449653339, 313.0479320658367, 262.50008502072416, 249.61128507532337, 247.05332690647953, 216.73534716905178, 213.3629196492467, 182.08687322307506, 181.50942483212862, 170.19975859664902, 162.87049038794035, 158.95829256134883, 154.0311763372936, 152.2298252350377, 148.0269640002326, 141.07197750684577, 136.75038728918926, 1267.336950329215, 1164.8394744762973, 689.0272118809418, 654.3571966548789, 568.1070605314338, 539.3212911869146, 515.5631740066466, 515.1878769303488, 422.77984996617505, 392.1425808518457, 334.63163776649674, 317.98675082168523, 257.60617482045393, 235.10691237834408, 208.16113916424032, 200.64562348405522, 192.20443119055358, 186.77924402289474, 182.38233811631548, 181.17470021851898, 176.42362387699285, 172.04850405606095, 170.4619543502674, 136.2912605759701, 133.09067210676403, 126.58827046883897, 122.06913534071005, 119.63153613448736, 117.94471425983137, 85.59544226826482, 1862.428472748477, 1313.1383638902612, 1281.9024174804385, 715.5346643124507, 608.9561028257573, 553.0733519227398, 401.4141767782397, 353.91064324231206, 328.48772845912015, 295.86972650573193, 294.3274089915151, 238.582099951054, 232.810788104962, 204.43993232712702, 199.86290301996067, 188.23652250601106, 137.29065384609794, 100.63285823857292, 99.18056344471968, 62.09912284138915, 49.98144715517953, 0.11667187683141038, 0.11677648699286185, 0.11591109074609243, 0.11581991370670591, 0.11493853934769449, 0.11493853934769449, 0.11493853934769449, 0.11546932471205514, 0.11483436072805565, 0.11726719429452129, 0.11604981484109106, 0.11558189073410356, 0.115117109136726, 0.11518394279181028, 1239.4184490019993, 796.41292707408, 461.5804593563008, 375.038823756209, 346.6263727331096, 341.2231801638134, 331.8090420011361, 325.15738239732514, 291.9956283515322, 252.43971386066013, 211.46474541538174, 200.5155839783035, 180.24839128150833, 157.19777302695326, 154.73640353023367, 142.2526397012671, 110.42271170915593, 108.63968341423893, 90.76498117220675, 80.53781130981854, 80.2626593672434, 76.52272973636224, 75.8697386120459, 36.09628047250301, 28.156558502420374, 12.245243841034842, 2.507295771558842, 0.10258781231200831, 0.10091215483888044, 0.09935483105143625, 0.10675502185697665, 1996.055417547366, 1015.4044022527137, 861.8801662821477, 224.79503899340483, 202.97628726829583, 202.02371846644817, 165.35391586459386, 159.43919561376018, 94.51801561323961, 54.01445740329567, 30.527287220365444, 25.79373552635762, 25.47985224292739, 20.447751676141213, 1.2432064013074637, 0.27548572028770213, 0.12034884656519171, 0.09628457631494981, 0.09395885199776285, 0.09190857435933604, 0.09068619530120378, 0.09032096349936418, 0.08988903250765412, 0.08988903250765412, 0.08988903250765412, 0.0898984552050061, 0.08989965658268363, 0.08888909664393553, 0.0893361844761828, 0.08945603651086777, 0.08924458754568695, 0.08962209937557104, 625.1302361995198, 509.4479237057166, 447.99811316270603, 390.62669820357837, 309.90008931600585, 293.6878656231103, 220.07322008555073, 208.26874242458905, 155.2484403329301, 135.9351242151922, 122.73729092056557, 91.63353492302797, 60.342799588843704, 52.962274920155046, 51.840363072991444, 39.57719195574108, 36.924507299737336, 26.91202568718295, 26.075825028000974, 21.979984813978074, 17.499882325570017, 15.443588405248255, 14.275037577261221, 11.61468588254395, 10.918972959602259, 8.196938081929954, 7.484634683862081, 6.438642479388787, 4.023903913875771, 2.710275386051578, 685.2501744782526, 490.9775345472703, 452.6850421789205, 254.39121809469577, 254.2801085772555, 241.20007141457572, 127.77863511814857, 99.94141682679283, 95.38398378929756, 78.09264982478885, 76.62385613037722, 75.88193707319405, 73.91805742237257, 67.85968445140354, 55.31481018504605, 37.72970901294178, 13.53550946760629, 0.09676724955151206, 0.09406705910872964, 0.09407010449847886, 0.09488415761077046, 0.09407159313947448, 0.09394101110808736, 0.09313677524262311, 0.09291766285555525, 0.09298932194661896, 0.09298932194661896, 0.09323106556869214, 0.0932097770294868, 0.09309543383353557, 0.09327626966062452, 0.09361003659339433, 0.09350253336227919, 0.09318348743491053, 0.09334216878129994, 0.09331639485974831, 0.09331362190103099, 0.09330636355996737, 164.16274891369414, 107.18969080473231, 104.86126657793442, 75.25590799555304, 74.44163364182906, 56.574476665431526, 48.14568231059769, 34.66792445709063, 21.349053184680166, 9.293653965230856, 3.6505562680891264, 2.5763666405021484, 1.3591200884338681, 0.06904788564994525, 0.06852643185073007, 0.06585621221255679, 0.06585621221255679, 0.06585621221255679, 0.06585620413989174, 0.06586078941364286, 0.06585620413989174, 0.06585620413989174, 0.06544809459437856, 0.06633916343579307, 0.06523006805657836, 0.06518954731433577, 0.06518954731433577, 0.06524831227960222, 0.06518954731433577, 0.06510271369267374, 0.06526005800725697, 0.06564708982431204, 0.07220888296012545, 0.06527631231834481, 146.22761709971996, 138.79824627420078, 116.12591821706145, 109.48033222053012, 84.40033934784803, 74.21018560269742, 44.809964022704875, 43.33528852542964, 39.391716419835674, 31.46411541584993, 29.956446601414555, 25.143831700373145, 22.388291298341823, 22.253979216616894, 14.354817854620014, 12.234128046111104, 10.81046651225052, 5.26695474247962, 4.985645413623504, 3.5550403379201647, 0.616489336022649, 0.3552979779585331, 0.11141821500852633, 0.09402067333952668, 0.07432613299795032, 0.06443132155541142, 0.05615178623651287, 0.0565114909835808, 0.05431354754112567, 0.05382483168121019], \"Total\": [15567.0, 7015.0, 1997.0, 4612.0, 1863.0, 3855.0, 2659.0, 1861.0, 1240.0, 1511.0, 1314.0, 1949.0, 1283.0, 1420.0, 1511.0, 1268.0, 1016.0, 1357.0, 1166.0, 1458.0, 1152.0, 863.0, 1325.0, 1313.0, 2074.0, 1060.0, 2030.0, 1039.0, 1213.0, 1203.0, 4612.254104439325, 3855.82774058604, 2074.9902651730386, 2030.0850934603657, 1931.3629918869322, 1463.4900370235969, 1451.041348969941, 1394.3998259204282, 1349.964593926118, 1335.2358629009634, 1298.917565718102, 1105.5304223178032, 1066.7990675738183, 997.4666841639543, 960.5524086284837, 915.8355056802977, 863.228143074619, 852.1170839981322, 801.5511928828603, 767.3344601947821, 739.1772100910988, 730.9483050172821, 696.3567790034476, 665.2657783686939, 630.1479893438112, 617.4252819031096, 543.590542180137, 537.4854266520874, 537.3797015906661, 530.5216245191765, 2659.1632997516576, 1949.529521638195, 979.9711408128769, 971.0024830124698, 965.4772204542327, 857.7577032504538, 808.3230229816229, 800.1063642896038, 766.3712590450364, 756.5389257899661, 734.2510883112608, 724.0119954171228, 632.5227841596283, 625.07336560579, 605.2801833390329, 554.457794560517, 532.4727228421137, 470.69169569719816, 470.1421874642145, 467.53004748596345, 461.75453888736604, 453.77521887122197, 413.99425991924255, 408.3479147837054, 401.7343295615298, 398.37855094249727, 390.03896651728013, 377.7876722192165, 371.78849933623127, 370.4902509732486, 1861.8094492685443, 1458.1319471935697, 1325.0191232870511, 1313.367039310767, 1213.0470266630348, 1203.7662549856468, 1105.3222202515615, 889.3674628260845, 863.0298892746338, 807.9110351304091, 785.2894645946201, 627.6420652898204, 618.9157081375942, 616.0845383720551, 602.289130763445, 573.6385067711246, 555.0621880979904, 497.93436215815717, 483.24333413026505, 462.9970590396154, 457.16980301533937, 426.27940351972893, 398.1428188756246, 380.2203332673869, 354.9155752166794, 351.0048706909313, 327.67730612511264, 280.548468369056, 269.53221441936785, 259.55363342660405, 15567.404053429507, 746.9022436802758, 573.1686214845786, 374.3282331307357, 374.3282331307357, 374.3282331307357, 374.3282331307357, 374.3282331307357, 370.56799417400924, 318.61036895526667, 291.08073954817917, 213.86810373254337, 168.0283408505629, 160.1465114311165, 107.53913663578521, 101.93041271545445, 101.72037161822844, 84.29090115778797, 79.89657360639296, 79.74511279520809, 77.88502148323639, 77.12527360490978, 66.8878404700012, 66.24152528242857, 60.8108311266749, 60.252102611052564, 52.00532901381067, 52.00532901381067, 50.49778019577021, 49.43734370704755, 7015.287543606918, 1511.0989720341295, 1357.4375048790998, 724.8652291533368, 620.6747478165096, 606.2186781792828, 574.8559554302007, 438.63472004855174, 426.7598128570159, 418.35249351757625, 353.58384391756044, 316.2909288890308, 310.19970291882834, 286.8885747894349, 241.8644799354565, 229.27923164739838, 176.03651690596513, 164.76677867617204, 139.11748769080404, 134.24415275866858, 129.90416839043368, 108.52913876244783, 104.2355020040978, 102.12366018592296, 91.19780472333935, 84.27500697030415, 77.22270769112825, 76.01174596754255, 69.99714973743022, 30.96018595086737, 1511.0508856981965, 1420.5754222679413, 1060.939103264134, 1039.9950291059515, 861.8329389838733, 611.5675050874551, 563.9460822138747, 516.668277652188, 506.1145493391683, 463.70257814973013, 402.58256095649483, 401.51689918842925, 398.15493591831904, 394.12167089609204, 352.17398637075166, 308.1904254924461, 286.7565710547243, 280.9819914293072, 245.4588450909555, 241.0100780668594, 221.92090693420852, 218.41403991135613, 158.37134473286972, 144.88577262997563, 134.88629366772903, 109.72110137885299, 108.23179826386502, 105.37586872424761, 86.1618930347503, 84.14508658690359, 1152.6288850807032, 771.4546069870547, 673.3836483333304, 629.7720095638721, 582.5413631825387, 530.6815162327156, 444.4159373014841, 416.4675118463981, 414.00613314459645, 410.2204062411939, 390.74363647674704, 387.26359621993214, 374.9089812998579, 355.28611486537153, 314.42040200330973, 263.8725544838395, 250.9837555697153, 248.42579694459076, 218.1078166110523, 214.73538899887367, 183.4593430971, 182.8818938394697, 171.57222874243553, 164.24295968324307, 160.33076181393048, 155.4036463119682, 153.60229599131117, 149.39943346382097, 142.44444714106652, 138.12285677306957, 1268.7126316608692, 1166.2151559368406, 690.4028929250612, 655.7328777877949, 569.482741646103, 540.6969722300348, 516.9388554558616, 516.5635578450328, 424.15553123493777, 393.5182617719868, 336.00731914567837, 319.3624317881744, 258.9818555289442, 236.48259386766242, 209.5368198721741, 202.02130538202115, 193.58011217985717, 188.154925568456, 183.7580189241865, 182.55038097356956, 177.7993055427958, 173.42418500722937, 171.8376355843224, 137.66694209274218, 134.4663533248291, 127.96395156656108, 123.44481653887183, 121.00721779035077, 119.32039609270701, 86.97112379075728, 1863.797703128479, 1314.5075941117643, 1283.2716480513832, 716.9038948308527, 610.3253333061846, 554.4425822336158, 402.7834076913028, 355.2798743972084, 329.85695892228733, 297.2389568044855, 295.69663911059166, 239.95133009917564, 234.18001841997997, 205.80916263218666, 201.2321344143307, 189.6057531035926, 138.65988418886965, 102.0020893307635, 100.54979387464884, 63.46835259180291, 51.35067662494532, 1.4974553906594616, 1.5045409366758515, 1.4973419135531187, 1.496889059769982, 1.4896317004313087, 1.4896317004313087, 1.4896317004313087, 1.4980625982394227, 1.4921081798520133, 1.524867607431514, 1.510583022193804, 1.5095672720213447, 1.5211151886038627, 1.5495747146317933, 1240.807323176999, 797.8018010917592, 462.96933428671815, 376.4276975624956, 348.0152473654364, 342.6120541467177, 333.1979157855467, 326.54625648966027, 293.3845031653375, 253.82858792538997, 212.85361997908117, 201.90445784272092, 181.63726518589598, 158.5866470079134, 156.125277723691, 143.64151367082144, 111.8115853740341, 110.02855746204527, 92.15385528995017, 81.92668524922074, 81.65153302764325, 77.91160369775548, 77.25861329940597, 37.485155044421646, 29.54543206218912, 13.634117709915389, 3.8961703898330344, 1.4914609846589506, 1.4897852716184976, 1.5243370834673349, 31.144759390988742, 1997.4494531133957, 1016.7984377542061, 863.2742018415228, 226.18907412478467, 204.3703227900862, 203.4177540715433, 166.7479598695566, 160.83323098682555, 95.91205068220764, 55.40849270842324, 31.92132483875076, 27.18777226900613, 26.873889859516673, 21.84178869423151, 2.638773831948814, 1.669520221595374, 1.520137822807579, 1.494420789598032, 1.5051983003500622, 1.489199810038122, 1.4847213713320253, 1.501122871647391, 1.496075493978968, 1.496075493978968, 1.4960754992998775, 1.499266802471439, 1.4995414399066165, 1.4837053270679508, 1.4921325795036067, 1.4972644363953667, 1.4951681437985183, 1.537754607102235, 626.4815656101034, 510.79925215776956, 449.3494425205894, 391.97802747436316, 311.2514184850582, 295.03919475365626, 221.4245494279071, 209.62007112539632, 156.59976999921648, 137.28645288238795, 124.08862049302932, 92.98486333001449, 61.6949580413085, 54.313603939902116, 53.191692589036386, 40.92852200895025, 38.27788048389676, 28.263360902364468, 27.427157220653903, 23.331352950322472, 18.85129785208479, 16.795399723750357, 15.626533464567235, 12.966014422097142, 12.270301424322437, 9.548266450777955, 8.836145688554716, 7.789970855125965, 5.375460436591152, 4.062309608679057, 686.6396055005642, 492.3669655735202, 454.0744730677752, 255.78064911289022, 255.66954015846648, 242.58950220466465, 129.16806643107287, 101.3308477744384, 96.77341461998722, 79.48208397081461, 78.0132880772879, 77.27136783844247, 75.30748841927368, 69.24911527330848, 56.70424061223002, 39.119142880869994, 14.924940303068883, 1.489725875154697, 1.4862953501725817, 1.4880005472374427, 1.5024108939206637, 1.4910158485031544, 1.492212521052029, 1.4833113107554912, 1.4823477390733093, 1.483496469800934, 1.483496469800934, 1.4875202962520522, 1.487332038400613, 1.485723254840683, 1.4887091485453603, 1.4963761146433754, 1.4976301451222556, 1.4889270022633436, 1.495567207134244, 1.5022667624618447, 1.5064917732851757, 1.5081094997135873, 165.57988780341728, 108.60682977458383, 106.2784052830193, 76.67304660621143, 75.85877237618104, 57.99161629475449, 49.56282229892543, 36.085063366552134, 22.766192110136362, 10.710792484215276, 5.074993876836466, 3.993507842517878, 2.77713970783569, 1.4905607522859552, 1.4909681417582643, 1.4831812083845588, 1.4831812083845588, 1.4831816849291304, 1.4832957659697001, 1.4846024638896103, 1.4857469250093551, 1.48597730602992, 1.4854825346014486, 1.5084940318585585, 1.484006462833412, 1.4850536503740834, 1.4850558159233735, 1.4865274588244235, 1.4852414988795593, 1.4849927440690776, 1.4886669854691075, 1.5495747146317933, 30.915664531665946, 38.27788048389676, 147.6580649323698, 140.22869415166977, 117.55636608879333, 110.91077957695359, 85.83078686509614, 75.64063305464006, 46.24041095157708, 44.76574342495903, 40.82216359044477, 32.89456281733827, 31.386893632695372, 26.57428654180479, 23.81999919031934, 23.684426844502912, 15.786283459117524, 13.664575535916335, 12.240914759028122, 6.698653161353839, 6.4171453027656815, 4.986625894998447, 2.0476025239680506, 1.786428611294058, 1.5427111043217034, 1.5250550088149266, 1.505254769226904, 1.496089479821594, 1.4868344135721092, 1.5067115473913397, 1.5017575992208831, 1.4952425876300965], \"Category\": [\"Default\", \"Default\", \"Default\", \"Default\", \"Default\", \"Default\", \"Default\", \"Default\", \"Default\", \"Default\", \"Default\", \"Default\", \"Default\", \"Default\", \"Default\", \"Default\", \"Default\", \"Default\", \"Default\", \"Default\", \"Default\", \"Default\", \"Default\", \"Default\", \"Default\", \"Default\", \"Default\", \"Default\", \"Default\", \"Default\", \"Topic1\", \"Topic1\", \"Topic1\", \"Topic1\", \"Topic1\", \"Topic1\", \"Topic1\", \"Topic1\", \"Topic1\", \"Topic1\", \"Topic1\", \"Topic1\", \"Topic1\", \"Topic1\", \"Topic1\", \"Topic1\", \"Topic1\", \"Topic1\", \"Topic1\", \"Topic1\", \"Topic1\", \"Topic1\", \"Topic1\", \"Topic1\", \"Topic1\", \"Topic1\", \"Topic1\", \"Topic1\", \"Topic1\", \"Topic1\", \"Topic2\", \"Topic2\", \"Topic2\", \"Topic2\", \"Topic2\", \"Topic2\", \"Topic2\", \"Topic2\", \"Topic2\", \"Topic2\", \"Topic2\", \"Topic2\", \"Topic2\", \"Topic2\", \"Topic2\", \"Topic2\", \"Topic2\", \"Topic2\", \"Topic2\", \"Topic2\", \"Topic2\", \"Topic2\", \"Topic2\", \"Topic2\", \"Topic2\", \"Topic2\", \"Topic2\", \"Topic2\", \"Topic2\", \"Topic2\", \"Topic3\", \"Topic3\", \"Topic3\", \"Topic3\", \"Topic3\", \"Topic3\", \"Topic3\", \"Topic3\", \"Topic3\", \"Topic3\", \"Topic3\", \"Topic3\", \"Topic3\", \"Topic3\", \"Topic3\", \"Topic3\", \"Topic3\", \"Topic3\", \"Topic3\", \"Topic3\", \"Topic3\", \"Topic3\", \"Topic3\", \"Topic3\", \"Topic3\", \"Topic3\", \"Topic3\", \"Topic3\", \"Topic3\", \"Topic3\", \"Topic4\", \"Topic4\", \"Topic4\", \"Topic4\", \"Topic4\", \"Topic4\", \"Topic4\", \"Topic4\", \"Topic4\", \"Topic4\", \"Topic4\", \"Topic4\", \"Topic4\", \"Topic4\", \"Topic4\", \"Topic4\", \"Topic4\", \"Topic4\", \"Topic4\", \"Topic4\", \"Topic4\", \"Topic4\", \"Topic4\", \"Topic4\", \"Topic4\", \"Topic4\", \"Topic4\", \"Topic4\", \"Topic4\", \"Topic4\", \"Topic5\", \"Topic5\", \"Topic5\", \"Topic5\", \"Topic5\", \"Topic5\", \"Topic5\", \"Topic5\", \"Topic5\", \"Topic5\", \"Topic5\", \"Topic5\", \"Topic5\", \"Topic5\", \"Topic5\", \"Topic5\", \"Topic5\", \"Topic5\", \"Topic5\", \"Topic5\", \"Topic5\", \"Topic5\", \"Topic5\", \"Topic5\", \"Topic5\", \"Topic5\", \"Topic5\", \"Topic5\", \"Topic5\", \"Topic5\", \"Topic6\", \"Topic6\", \"Topic6\", \"Topic6\", \"Topic6\", \"Topic6\", \"Topic6\", \"Topic6\", \"Topic6\", \"Topic6\", \"Topic6\", \"Topic6\", \"Topic6\", \"Topic6\", \"Topic6\", \"Topic6\", \"Topic6\", \"Topic6\", \"Topic6\", \"Topic6\", \"Topic6\", \"Topic6\", \"Topic6\", \"Topic6\", \"Topic6\", \"Topic6\", \"Topic6\", \"Topic6\", \"Topic6\", \"Topic6\", \"Topic7\", \"Topic7\", \"Topic7\", \"Topic7\", \"Topic7\", \"Topic7\", \"Topic7\", \"Topic7\", \"Topic7\", \"Topic7\", \"Topic7\", \"Topic7\", \"Topic7\", \"Topic7\", \"Topic7\", \"Topic7\", \"Topic7\", \"Topic7\", \"Topic7\", \"Topic7\", \"Topic7\", \"Topic7\", \"Topic7\", \"Topic7\", \"Topic7\", \"Topic7\", \"Topic7\", \"Topic7\", \"Topic7\", \"Topic7\", \"Topic8\", \"Topic8\", \"Topic8\", \"Topic8\", \"Topic8\", \"Topic8\", \"Topic8\", \"Topic8\", \"Topic8\", \"Topic8\", \"Topic8\", \"Topic8\", \"Topic8\", \"Topic8\", \"Topic8\", \"Topic8\", \"Topic8\", \"Topic8\", \"Topic8\", \"Topic8\", \"Topic8\", \"Topic8\", \"Topic8\", \"Topic8\", \"Topic8\", \"Topic8\", \"Topic8\", \"Topic8\", \"Topic8\", \"Topic8\", \"Topic9\", \"Topic9\", \"Topic9\", \"Topic9\", \"Topic9\", \"Topic9\", \"Topic9\", \"Topic9\", \"Topic9\", \"Topic9\", \"Topic9\", \"Topic9\", \"Topic9\", \"Topic9\", \"Topic9\", \"Topic9\", \"Topic9\", \"Topic9\", \"Topic9\", \"Topic9\", \"Topic9\", \"Topic9\", \"Topic9\", \"Topic9\", \"Topic9\", \"Topic9\", \"Topic9\", \"Topic9\", \"Topic9\", \"Topic9\", \"Topic9\", \"Topic9\", \"Topic9\", \"Topic9\", \"Topic9\", \"Topic10\", \"Topic10\", \"Topic10\", \"Topic10\", \"Topic10\", \"Topic10\", \"Topic10\", \"Topic10\", \"Topic10\", \"Topic10\", \"Topic10\", \"Topic10\", \"Topic10\", \"Topic10\", \"Topic10\", \"Topic10\", \"Topic10\", \"Topic10\", \"Topic10\", \"Topic10\", \"Topic10\", \"Topic10\", \"Topic10\", \"Topic10\", \"Topic10\", \"Topic10\", \"Topic10\", \"Topic10\", \"Topic10\", \"Topic10\", \"Topic10\", \"Topic11\", \"Topic11\", \"Topic11\", \"Topic11\", \"Topic11\", \"Topic11\", \"Topic11\", \"Topic11\", \"Topic11\", \"Topic11\", \"Topic11\", \"Topic11\", \"Topic11\", \"Topic11\", \"Topic11\", \"Topic11\", \"Topic11\", \"Topic11\", \"Topic11\", \"Topic11\", \"Topic11\", \"Topic11\", \"Topic11\", \"Topic11\", \"Topic11\", \"Topic11\", \"Topic11\", \"Topic11\", \"Topic11\", \"Topic11\", \"Topic11\", \"Topic11\", \"Topic12\", \"Topic12\", \"Topic12\", \"Topic12\", \"Topic12\", \"Topic12\", \"Topic12\", \"Topic12\", \"Topic12\", \"Topic12\", \"Topic12\", \"Topic12\", \"Topic12\", \"Topic12\", \"Topic12\", \"Topic12\", \"Topic12\", \"Topic12\", \"Topic12\", \"Topic12\", \"Topic12\", \"Topic12\", \"Topic12\", \"Topic12\", \"Topic12\", \"Topic12\", \"Topic12\", \"Topic12\", \"Topic12\", \"Topic12\", \"Topic13\", \"Topic13\", \"Topic13\", \"Topic13\", \"Topic13\", \"Topic13\", \"Topic13\", \"Topic13\", \"Topic13\", \"Topic13\", \"Topic13\", \"Topic13\", \"Topic13\", \"Topic13\", \"Topic13\", \"Topic13\", \"Topic13\", \"Topic13\", \"Topic13\", \"Topic13\", \"Topic13\", \"Topic13\", \"Topic13\", \"Topic13\", \"Topic13\", \"Topic13\", \"Topic13\", \"Topic13\", \"Topic13\", \"Topic13\", \"Topic13\", \"Topic13\", \"Topic13\", \"Topic13\", \"Topic13\", \"Topic13\", \"Topic13\", \"Topic13\", \"Topic14\", \"Topic14\", \"Topic14\", \"Topic14\", \"Topic14\", \"Topic14\", \"Topic14\", \"Topic14\", \"Topic14\", \"Topic14\", \"Topic14\", \"Topic14\", \"Topic14\", \"Topic14\", \"Topic14\", \"Topic14\", \"Topic14\", \"Topic14\", \"Topic14\", \"Topic14\", \"Topic14\", \"Topic14\", \"Topic14\", \"Topic14\", \"Topic14\", \"Topic14\", \"Topic14\", \"Topic14\", \"Topic14\", \"Topic14\", \"Topic14\", \"Topic14\", \"Topic14\", \"Topic14\", \"Topic15\", \"Topic15\", \"Topic15\", \"Topic15\", \"Topic15\", \"Topic15\", \"Topic15\", \"Topic15\", \"Topic15\", \"Topic15\", \"Topic15\", \"Topic15\", \"Topic15\", \"Topic15\", \"Topic15\", \"Topic15\", \"Topic15\", \"Topic15\", \"Topic15\", \"Topic15\", \"Topic15\", \"Topic15\", \"Topic15\", \"Topic15\", \"Topic15\", \"Topic15\", \"Topic15\", \"Topic15\", \"Topic15\", \"Topic15\"], \"logprob\": [30.0, 29.0, 28.0, 27.0, 26.0, 25.0, 24.0, 23.0, 22.0, 21.0, 20.0, 19.0, 18.0, 17.0, 16.0, 15.0, 14.0, 13.0, 12.0, 11.0, 10.0, 9.0, 8.0, 7.0, 6.0, 5.0, 4.0, 3.0, 2.0, 1.0, -2.5728, -2.752, -3.372, -3.3938, -3.4437, -3.7214, -3.7299, -3.7698, -3.8022, -3.8132, -3.8408, -4.0022, -4.0379, -4.1052, -4.1429, -4.1907, -4.2499, -4.2629, -4.3242, -4.3679, -4.4053, -4.4165, -4.4651, -4.5109, -4.5652, -4.5857, -4.7133, -4.7246, -4.7248, -4.7377, -2.5189, -2.8295, -3.5181, -3.5273, -3.533, -3.6515, -3.7109, -3.7212, -3.7643, -3.7772, -3.8072, -3.8213, -3.9566, -3.9685, -4.0008, -4.0887, -4.1292, -4.2529, -4.2541, -4.2596, -4.2721, -4.2896, -4.3816, -4.3954, -4.4118, -4.4202, -4.4414, -4.4735, -4.4895, -4.493, -2.6406, -2.8852, -2.981, -2.9899, -3.0694, -3.0771, -3.1625, -3.3802, -3.4103, -3.4764, -3.5049, -3.7294, -3.7434, -3.748, -3.7707, -3.8196, -3.8526, -3.9615, -3.9915, -4.0344, -4.0471, -4.1173, -4.1858, -4.232, -4.3011, -4.3123, -4.3813, -4.5373, -4.5776, -4.6155, -0.4077, -3.4465, -3.7119, -4.1392, -4.1392, -4.1392, -4.1392, -4.1392, -4.1494, -4.3011, -4.3919, -4.7019, -4.9449, -4.9934, -5.396, -5.4503, -5.4524, -5.6433, -5.6978, -5.6997, -5.7238, -5.7337, -5.879, -5.889, -5.9765, -5.9859, -6.1369, -6.1369, -6.1672, -6.189, -1.0195, -2.5555, -2.6628, -3.2911, -3.4466, -3.4702, -3.5234, -3.7946, -3.8222, -3.8421, -4.0109, -4.1228, -4.1424, -4.2209, -4.3926, -4.4462, -4.7123, -4.779, -4.9498, -4.986, -5.019, -5.2009, -5.2418, -5.2625, -5.3773, -5.4576, -5.5465, -5.5626, -5.6466, -6.488, -2.3885, -2.4503, -2.7425, -2.7625, -2.9507, -3.2943, -3.3756, -3.4634, -3.4841, -3.5718, -3.7136, -3.7163, -3.7247, -3.7349, -3.8479, -3.9819, -4.0543, -4.0747, -4.2106, -4.229, -4.312, -4.328, -4.6519, -4.7417, -4.8139, -5.0227, -5.0366, -5.0637, -5.2679, -5.292, -2.5445, -2.9466, -3.0828, -3.1499, -3.2281, -3.3215, -3.4994, -3.5646, -3.5706, -3.5798, -3.6286, -3.6376, -3.6701, -3.7241, -3.8468, -4.0229, -4.0732, -4.0835, -4.2144, -4.2301, -4.3886, -4.3918, -4.4561, -4.5002, -4.5245, -4.556, -4.5677, -4.5957, -4.6438, -4.675, -2.3366, -2.421, -2.946, -2.9977, -3.139, -3.191, -3.2361, -3.2368, -3.4345, -3.5097, -3.6683, -3.7193, -3.9299, -4.0213, -4.143, -4.1798, -4.2228, -4.2514, -4.2752, -4.2819, -4.3084, -4.3335, -4.3428, -4.5665, -4.5903, -4.6404, -4.6767, -4.6969, -4.7111, -5.0317, -1.8768, -2.2262, -2.2503, -2.8334, -2.9947, -3.0909, -3.4114, -3.5374, -3.6119, -3.7165, -3.7217, -3.9317, -3.9562, -4.0861, -4.1088, -4.1687, -4.4843, -4.7949, -4.8095, -5.2777, -5.4948, -11.5548, -11.5539, -11.5614, -11.5621, -11.5698, -11.5698, -11.5698, -11.5652, -11.5707, -11.5497, -11.5602, -11.5642, -11.5682, -11.5676, -1.9476, -2.3899, -2.9354, -3.143, -3.2218, -3.2375, -3.2655, -3.2857, -3.3933, -3.5388, -3.716, -3.7691, -3.8757, -4.0125, -4.0283, -4.1124, -4.3657, -4.382, -4.5617, -4.6813, -4.6847, -4.7324, -4.741, -5.4838, -5.7322, -6.5649, -8.1508, -11.3471, -11.3635, -11.3791, -11.3072, -1.2746, -1.9504, -2.1144, -3.4583, -3.5604, -3.5651, -3.7654, -3.8018, -4.3247, -4.8842, -5.4549, -5.6234, -5.6356, -5.8556, -8.6558, -10.1627, -10.9909, -11.2139, -11.2384, -11.2605, -11.2738, -11.2779, -11.2827, -11.2827, -11.2827, -11.2826, -11.2826, -11.2939, -11.2888, -11.2875, -11.2899, -11.2856, -2.4149, -2.6195, -2.7481, -2.8851, -3.1166, -3.1703, -3.4589, -3.514, -3.8078, -3.9407, -4.0428, -4.3351, -4.7528, -4.8833, -4.9047, -5.1746, -5.244, -5.5603, -5.5919, -5.7627, -5.9907, -6.1157, -6.1944, -6.4006, -6.4624, -6.7491, -6.84, -6.9905, -7.4606, -7.8558, -2.0549, -2.3883, -2.4695, -3.0458, -3.0462, -3.099, -3.7344, -3.9801, -4.0267, -4.2268, -4.2457, -4.2555, -4.2817, -4.3672, -4.5716, -4.9542, -5.9793, -10.9201, -10.9484, -10.9484, -10.9398, -10.9484, -10.9497, -10.9583, -10.9607, -10.9599, -10.9599, -10.9573, -10.9576, -10.9588, -10.9568, -10.9533, -10.9544, -10.9578, -10.9561, -10.9564, -10.9564, -10.9565, -2.604, -3.0302, -3.0522, -3.3839, -3.3948, -3.6693, -3.8306, -4.159, -4.6438, -5.4755, -6.4099, -6.7584, -7.398, -10.3778, -10.3853, -10.4251, -10.4251, -10.4251, -10.4251, -10.425, -10.4251, -10.4251, -10.4313, -10.4178, -10.4346, -10.4353, -10.4353, -10.4344, -10.4353, -10.4366, -10.4342, -10.4283, -10.333, -10.4339, -2.7028, -2.7549, -2.9332, -2.9922, -3.2523, -3.381, -3.8855, -3.919, -4.0144, -4.2391, -4.2882, -4.4633, -4.5794, -4.5854, -5.0238, -5.1837, -5.3074, -6.0265, -6.0814, -6.4196, -8.1716, -8.7227, -9.8824, -10.0522, -10.2872, -10.4301, -10.5676, -10.5612, -10.6009, -10.6099], \"loglift\": [30.0, 29.0, 28.0, 27.0, 26.0, 25.0, 24.0, 23.0, 22.0, 21.0, 20.0, 19.0, 18.0, 17.0, 16.0, 15.0, 14.0, 13.0, 12.0, 11.0, 10.0, 9.0, 8.0, 7.0, 6.0, 5.0, 4.0, 3.0, 2.0, 1.0, 1.4251, 1.4251, 1.4248, 1.4248, 1.4247, 1.4245, 1.4245, 1.4245, 1.4244, 1.4244, 1.4244, 1.4242, 1.4242, 1.4241, 1.424, 1.424, 1.4239, 1.4238, 1.4237, 1.4237, 1.4236, 1.4236, 1.4235, 1.4234, 1.4233, 1.4232, 1.4229, 1.4229, 1.4229, 1.4229, 2.0297, 2.0296, 2.0289, 2.0289, 2.0288, 2.0287, 2.0286, 2.0286, 2.0285, 2.0285, 2.0284, 2.0284, 2.0281, 2.0281, 2.028, 2.0278, 2.0277, 2.0274, 2.0274, 2.0273, 2.0273, 2.0272, 2.027, 2.0269, 2.0269, 2.0268, 2.0268, 2.0266, 2.0266, 2.0266, 2.2645, 2.2643, 2.2642, 2.2642, 2.2641, 2.2641, 2.264, 2.2637, 2.2637, 2.2636, 2.2635, 2.2631, 2.2631, 2.2631, 2.263, 2.2629, 2.2628, 2.2625, 2.2624, 2.2623, 2.2623, 2.2621, 2.2618, 2.2617, 2.2614, 2.2614, 2.2611, 2.2604, 2.2602, 2.26, 2.3738, 2.372, 2.3714, 2.3701, 2.3701, 2.3701, 2.3701, 2.3701, 2.37, 2.3694, 2.369, 2.3672, 2.3654, 2.365, 2.3606, 2.3598, 2.3598, 2.3569, 2.3559, 2.3559, 2.3555, 2.3553, 2.3524, 2.3522, 2.3502, 2.35, 2.3462, 2.3462, 2.3453, 2.3447, 2.5591, 2.5584, 2.5583, 2.5574, 2.5571, 2.557, 2.5569, 2.5562, 2.5561, 2.556, 2.5554, 2.5549, 2.5549, 2.5545, 2.5535, 2.5533, 2.5514, 2.5509, 2.5493, 2.5488, 2.5486, 2.5465, 2.546, 2.5457, 2.5441, 2.5428, 2.5413, 2.541, 2.5394, 2.5137, 2.7254, 2.7254, 2.725, 2.725, 2.7247, 2.7241, 2.7239, 2.7237, 2.7236, 2.7234, 2.7229, 2.7229, 2.7229, 2.7228, 2.7224, 2.7219, 2.7215, 2.7214, 2.7207, 2.7206, 2.7201, 2.72, 2.7176, 2.7168, 2.7161, 2.7138, 2.7136, 2.7133, 2.7103, 2.7099, 2.8401, 2.8396, 2.8393, 2.8391, 2.839, 2.8387, 2.8382, 2.838, 2.838, 2.838, 2.8378, 2.8378, 2.8377, 2.8375, 2.837, 2.8361, 2.8358, 2.8358, 2.835, 2.8349, 2.8338, 2.8338, 2.8333, 2.8329, 2.8327, 2.8325, 2.8324, 2.8321, 2.8316, 2.8313, 2.952, 2.9519, 2.9511, 2.951, 2.9507, 2.9506, 2.9505, 2.9505, 2.9499, 2.9496, 2.949, 2.9488, 2.9478, 2.9473, 2.9465, 2.9463, 2.946, 2.9458, 2.9456, 2.9456, 2.9454, 2.9452, 2.9451, 2.9431, 2.9428, 2.9423, 2.9419, 2.9417, 2.9415, 2.9372, 3.0273, 3.027, 3.027, 3.0261, 3.0258, 3.0255, 3.0246, 3.0242, 3.0239, 3.0234, 3.0234, 3.0223, 3.0222, 3.0213, 3.0212, 3.0208, 3.0181, 3.0145, 3.0143, 3.0062, 3.001, 0.4759, 0.472, 0.4694, 0.4689, 0.4661, 0.4661, 0.4661, 0.4651, 0.4636, 0.4628, 0.4618, 0.4584, 0.4468, 0.4288, 3.3633, 3.3627, 3.3614, 3.3607, 3.3604, 3.3604, 3.3603, 3.3602, 3.3597, 3.3589, 3.3579, 3.3575, 3.3568, 3.3556, 3.3555, 3.3547, 3.3519, 3.3517, 3.3492, 3.3473, 3.3473, 3.3464, 3.3463, 3.3267, 3.3163, 3.257, 2.9236, 0.6876, 0.6723, 0.6338, -2.3114, 3.5603, 3.5596, 3.5593, 3.5548, 3.5541, 3.5541, 3.5526, 3.5523, 3.5463, 3.5355, 3.5163, 3.5083, 3.5077, 3.495, 2.8083, 1.7592, 1.0248, 0.8188, 0.7871, 0.7758, 0.7654, 0.7504, 0.7489, 0.7489, 0.7489, 0.7469, 0.7467, 0.746, 0.7454, 0.7433, 0.7423, 0.7185, 3.5794, 3.5789, 3.5786, 3.5781, 3.5772, 3.577, 3.5755, 3.5751, 3.5729, 3.5717, 3.5706, 3.5669, 3.5594, 3.5564, 3.5558, 3.548, 3.5456, 3.5326, 3.5311, 3.5219, 3.5072, 3.4977, 3.4911, 3.4715, 3.4649, 3.429, 3.4156, 3.3911, 3.292, 3.1769, 3.8478, 3.847, 3.8467, 3.8443, 3.8443, 3.844, 3.839, 3.836, 3.8353, 3.8322, 3.8318, 3.8316, 3.8312, 3.8295, 3.825, 3.8136, 3.7521, 1.1158, 1.0898, 1.0886, 1.0876, 1.0866, 1.0844, 1.0818, 1.0801, 1.0801, 1.0801, 1.08, 1.0799, 1.0798, 1.0797, 1.0781, 1.0761, 1.0786, 1.0758, 1.0711, 1.0682, 1.0671, 4.721, 4.7165, 4.7162, 4.711, 4.7108, 4.7049, 4.7006, 4.6896, 4.6654, 4.5877, 4.4002, 4.2913, 4.0151, 1.6575, 1.6497, 1.6152, 1.6152, 1.6152, 1.6151, 1.6143, 1.6134, 1.6133, 1.6074, 1.6055, 1.6051, 1.6037, 1.6037, 1.6036, 1.6036, 1.6024, 1.6024, 1.5682, -1.3298, -1.6444, 4.7368, 4.7363, 4.7343, 4.7335, 4.7297, 4.7274, 4.7151, 4.7141, 4.7109, 4.7021, 4.6999, 4.6912, 4.6845, 4.6842, 4.6515, 4.636, 4.6223, 4.5061, 4.4941, 4.4081, 3.5461, 3.1315, 2.1185, 1.9603, 1.7383, 1.6015, 1.4702, 1.4633, 1.4269, 1.4222]}, \"token.table\": {\"Topic\": [12, 12, 3, 11, 5, 14, 2, 8, 3, 8, 8, 10, 5, 1, 15, 6, 2, 14, 9, 1, 5, 13, 5, 11, 2, 9, 11, 10, 7, 12, 8, 5, 6, 6, 6, 2, 4, 2, 13, 7, 4, 11, 4, 9, 11, 6, 10, 6, 3, 6, 3, 11, 10, 13, 5, 5, 9, 8, 9, 15, 9, 8, 3, 15, 14, 10, 4, 13, 12, 4, 10, 10, 8, 14, 1, 13, 6, 4, 7, 2, 1, 15, 7, 7, 5, 3, 4, 6, 1, 13, 7, 13, 5, 6, 8, 14, 12, 4, 6, 12, 12, 12, 13, 15, 12, 5, 2, 2, 3, 7, 3, 9, 7, 3, 1, 7, 8, 2, 6, 5, 2, 6, 8, 7, 1, 7, 1, 2, 10, 5, 1, 11, 6, 11, 9, 3, 15, 7, 6, 7, 4, 5, 6, 11, 7, 6, 4, 4, 7, 7, 6, 5, 8, 2, 5, 9, 15, 15, 12, 12, 4, 5, 1, 4, 9, 12, 12, 6, 11, 12, 12, 9, 1, 10, 2, 7, 15, 1, 9, 1, 6, 4, 2, 4, 2, 2, 13, 8, 10, 12, 3, 6, 3, 8, 4, 10, 10, 13, 5, 5, 7, 10, 4, 3, 5, 10, 3, 4, 1, 13, 12, 2, 2, 5, 8, 3, 5, 5, 10, 7, 9, 6, 8, 15, 15, 13, 4, 1, 10, 10, 10, 13, 5, 10, 8, 1, 2, 12, 2, 9, 1, 3, 11, 8, 10, 11, 2, 4, 8, 10, 7, 10, 14, 14, 15, 4, 5, 5, 3, 8, 14, 5, 5, 6, 4, 5, 4, 12, 14, 12, 15, 4, 8, 10, 12, 1, 13, 12, 2, 8, 6, 8, 3, 9, 6, 1, 4, 3, 14, 12, 7, 3, 2, 1, 8, 7, 9, 12, 11, 3, 12, 4, 8, 8, 15, 15, 5, 12, 8, 7, 3, 15, 8, 4, 15, 8, 1, 14, 2, 1, 12, 2, 8, 1, 15, 2, 2, 6, 3, 15, 7, 11, 3, 15, 6, 7, 10, 3, 3, 6, 3, 8, 1, 13, 1, 4, 9, 2, 6, 2, 2, 12, 7, 10, 9, 7, 9, 4, 12, 7, 2, 1, 7, 12, 9, 5, 1, 1, 13, 1, 7, 13, 9, 7, 1, 3, 15, 3, 14, 10, 14, 11, 3, 4, 10, 1, 6], \"Freq\": [0.9894083478241067, 0.9479655434512481, 0.998532725952126, 0.9895173537899714, 0.989277094021214, 0.788178290865925, 0.9978849739768932, 0.9973963361175492, 0.9980863619955267, 0.9878914860212468, 0.991676382543595, 0.9970827503302742, 0.9992727332527729, 0.9989961086523342, 0.9867606822107978, 0.9958502921291614, 0.9983632496613263, 0.9699304015201509, 0.9988531111432771, 0.9980516036543949, 0.997426791797538, 0.9930383744076577, 0.9930397276574209, 0.3789638914455469, 0.9965395954695958, 0.9955722910694732, 0.9985239894360278, 0.9964047920806393, 0.9942606727557011, 0.9922713931127941, 0.9973573419200193, 0.9866896102087357, 0.9938743476801127, 0.9958089799606671, 0.9963282969947596, 0.9982828166022565, 0.9964516886166269, 0.9979658339610759, 0.9713914263336972, 0.9964762873341741, 0.9792189391441606, 0.990490760277563, 0.9964516886166269, 0.9942622306574235, 0.9563122620987898, 0.9940566611465359, 0.9906519045076086, 0.9863915216758264, 0.9988066586251151, 0.9869432276962001, 0.9992237004368855, 0.9886016653674282, 0.988688847273611, 0.9826380025848923, 0.9841664747625948, 0.9958763388585384, 0.9736970043294584, 0.9915071063379811, 0.9845868020716094, 0.9912379263095695, 0.9990354623114615, 0.993730642736048, 0.9978465110735615, 0.9786698114748305, 0.982900695684797, 0.9797733984114649, 0.9846851660136902, 0.9868663116546617, 0.9758144581722912, 0.9928408591553389, 0.9874790339881092, 0.9603801813634846, 0.9924670068815461, 0.9754969357141261, 0.9995259797094146, 0.9699450941617503, 0.9934293274458835, 0.9908720793856515, 0.9951777957841806, 0.9951894710583454, 0.9976915718470153, 0.9235936502021795, 0.9979452302758539, 0.9955376458783333, 0.9967670958377605, 0.994881225847016, 0.98308724603676, 0.9970992801692756, 0.9970740068917351, 0.981353232115066, 0.9949207844621734, 0.997223685443787, 0.9969027181020119, 0.9935258744724926, 0.9890950167936298, 0.9879711661121099, 0.9666156937703394, 0.9938799559326872, 0.9977978318532364, 0.9429371732896411, 0.8931016972932484, 0.9553004008713353, 0.9380272025021972, 0.8986256514765041, 0.9975048920964654, 0.9979897053272212, 0.9990090108040617, 0.9972341816229515, 0.9982396273489984, 0.9920454141366482, 0.998872357115085, 0.9912095136628105, 0.9968139367141472, 0.9940142104500981, 0.9986890487010414, 0.992432188961766, 0.998958034518198, 0.9982961028847254, 0.9967710855797672, 0.9922912205382367, 0.9984699582517983, 0.9886188875762562, 0.9957339008832509, 0.9971862681463103, 0.9983135834774304, 0.9895685414012183, 0.9986156669351581, 0.9959776243252453, 0.9927959732970367, 0.985754423699098, 0.9989818604938184, 0.9947430081254558, 0.9865150010773127, 0.9992743480386267, 0.9901757960318439, 0.9988037694100996, 0.7464187023215678, 0.9909677388833565, 0.9962220788427703, 0.9963800587426309, 0.9964516886166269, 0.9959185396382844, 0.9988909970964962, 0.971137637820335, 0.9970249987016092, 0.9913409541657753, 0.9702218980874845, 0.9974531557558286, 0.9898595756447, 0.9975754613914387, 0.9965051446026417, 0.9989410157934101, 0.9904329675816117, 0.9975705488793187, 0.9962731631267794, 0.9938770494189871, 0.973174742048118, 0.8021455958851803, 0.9773135709921994, 0.9897843400458093, 0.9957686734994362, 0.9955205987354735, 0.9974325386936237, 0.997961120967244, 0.9915310950363658, 0.9912270723237634, 0.7702211101408516, 0.9990432366712302, 0.9156759219670533, 0.9969968973077616, 0.9254964254512299, 0.9990090577834286, 0.9992935920320742, 0.9476930288602246, 0.9975983726937748, 0.9966932730630274, 0.7791626594219526, 0.9972363405993351, 0.9963975600943343, 0.9992854672408018, 0.9961373702945381, 0.9912651596945024, 0.9992154406377444, 0.9999098081205647, 0.9956828943062378, 0.9995625316610807, 0.9835467149863243, 0.9986501027749466, 0.9837090876258888, 0.9959793966846828, 0.9990281232758512, 0.9960689778694466, 0.9974271054716093, 0.9926656333091644, 0.9854097943214538, 0.9962072462474455, 0.9882995131085751, 0.9934477700386076, 0.9889970631303533, 0.9868658601270827, 0.9973540708352143, 0.9979062667547699, 0.9856876604747351, 0.9974203013882375, 0.9973017303790733, 0.995264816365429, 0.9981235234417094, 0.9962871485421649, 0.9997280929430757, 0.9816745680934054, 0.792200609488248, 0.998967579352259, 0.9962002779840697, 0.9998164660252463, 0.9968615096492295, 0.9991368622650063, 0.9907321642462507, 0.9689864281696774, 0.9899950781616927, 0.991699897144661, 0.9978284805924651, 0.9991148377307946, 0.9961418263916136, 0.9553633754269879, 0.9605559231263757, 0.9976121308945338, 0.9949456480008886, 0.999074423526733, 0.995520367146002, 0.9985434296338842, 0.9927924693547543, 0.9934699293571237, 0.9944206388070697, 0.9952809260530122, 0.9889340285823295, 0.9311357855084508, 0.03210813053477416, 0.7441223030443509, 0.9967273814930379, 0.9987391687541802, 0.9984074047805752, 0.9971296257989735, 0.993030332686474, 0.9898801317738404, 0.9952948119390237, 0.9302709853574441, 0.9960878893394887, 0.9757973812250651, 0.9938618371803623, 0.8801449609953874, 0.9968314022982134, 0.9885721500082264, 0.922420398563272, 0.8402739585575477, 0.9288804050204887, 0.9812575982039184, 0.9859103391044606, 0.9967714426324213, 0.9984624321405471, 0.9970020916560998, 0.7512192584323364, 0.9881470134422221, 0.9941119210707923, 0.9938864071061152, 0.9964516886166269, 0.9961324820509507, 0.9964516886166269, 0.8964734947908924, 0.36008271286406784, 0.9935664341122622, 0.8868458517330222, 0.9762621409056119, 0.9882958508961219, 0.9909860722455806, 0.895912073637102, 0.9985772671054901, 0.990957003047683, 0.7384961484940856, 0.9986172284848827, 0.9981838172040025, 0.9843138525112846, 0.9969731549558866, 0.9943152827847737, 0.9943704115615617, 0.9971539984250504, 0.9995227615330735, 0.9703396824580486, 0.9944805673755487, 0.9684678509730605, 0.9775962649234815, 0.9967371159275851, 0.9978596147637416, 0.9979508161293184, 0.9987026373674132, 0.9979680083333407, 0.990836344821307, 0.9960353205844601, 0.901794673947075, 0.9745798407504935, 0.9992308614501179, 0.99647777389535, 0.9806687308228798, 0.9949445659699611, 0.9888339514492915, 0.9424049856549646, 0.9407590288707005, 0.9848708767149267, 0.9906294258801337, 0.9918374250223129, 0.9975697627062808, 0.9974412067297015, 0.9783101622978891, 0.9972756898122408, 0.9717760289951672, 0.4883760340664648, 0.9917878523853522, 0.9981782226346438, 0.9852050761640051, 0.9975925228343333, 0.9982609145502949, 0.9976351010286143, 0.9973707745209489, 0.9962087864150218, 0.9980647613070336, 0.9887709152010815, 0.9982107118072968, 0.9986022394331467, 0.9966664591475085, 0.9985204638926525, 0.8781831509115582, 0.9918705940544339, 0.9982312740780972, 0.9971371602651745, 0.9827719218615011, 0.9974369058617153, 0.9703818583382524, 0.7699868588469411, 0.9967904576357081, 0.9989591338370388, 0.9983223888883833, 0.9971436597233554, 0.9893059772495493, 0.9994654936072083, 0.9870113399619302, 0.9992942849725, 0.9709259519369635, 0.9949610627416395, 0.9964059368103098, 0.9978732084828014, 0.9966991020771605, 0.9973362494353905, 0.9964775748003369, 0.9985868087276079, 0.9837978741829485, 0.9958317818841611, 0.9906329399558275, 0.98802909580821, 0.9806687308228798, 0.8378484242391656, 0.9954824750739465, 0.9952680504138335, 0.9992823436970419, 0.9981144619866414, 0.972526798054168, 0.997398139537183, 0.9919673097225008, 0.9980973343138171, 0.9983838376599354, 0.9819620038699622, 0.9971318331829441, 0.9919184769358963, 0.9976337073949214, 0.9768648069180773, 0.9960804014288405, 0.9979958129282896, 0.9973837551996102, 0.9558129692945893, 0.9983579754310269, 0.978179468792937, 0.9912915740908548, 0.990458455888719, 0.9932949032355658, 0.9969986738529587, 0.9781163668337935, 0.9977415429630598, 0.9985295908251978, 0.9993045332171518], \"Term\": [\"accident\", \"accident_cleared\", \"actor\", \"actress\", \"album\", \"allegheny_ave\", \"also\", \"always\", \"amazing\", \"apple\", \"appointment\", \"area\", \"art\", \"artist\", \"ask\", \"auction\", \"available\", \"award\", \"back\", \"beat\", \"beautiful\", \"beauty\", \"bed\", \"beer_wine\", \"big\", \"birthday\", \"black\", \"black_live\", \"bless\", \"block\", \"book\", \"bounce\", \"boy\", \"break\", \"bring\", \"business\", \"business_dentist\", \"call\", \"call_text\", \"car\", \"card\", \"cat\", \"cbd_oil\", \"celebrate\", \"celebrity\", \"center\", \"challenge\", \"championship\", \"check\", \"cheer\", \"city\", \"class\", \"clear\", \"click\", \"client\", \"close\", \"closed_due\", \"coffee\", \"cold\", \"color\", \"come\", \"comedy\", \"community\", \"company\", \"connect\", \"construction\", \"contact\", \"couple\", \"crash\", \"create\", \"crew\", \"cruise\", \"culture\", \"custom\", \"day\", \"dead\", \"delivery\", \"design\", \"detail\", \"dog\", \"downtown\", \"drawing_pen\", \"dream\", \"drive\", \"drop\", \"early\", \"ebay_link\", \"end\", \"enjoy\", \"estate\", \"even\", \"event\", \"ever\", \"everyday\", \"excited\", \"exit\", \"exit_jamme\", \"experience\", \"explore\", \"express\", \"expwy\", \"extremely\", \"f\", \"facial\", \"fall\", \"family\", \"fashion\", \"favorite\", \"feel\", \"fight\", \"film\", \"finally\", \"find\", \"fire\", \"first\", \"flight\", \"follow\", \"food\", \"free\", \"french_quarter\", \"friend\", \"frontier_silver\", \"full\", \"fun\", \"game\", \"garden\", \"get\", \"gift\", \"girl\", \"gladiator\", \"go\", \"gold\", \"gold_coin\", \"good\", \"grab\", \"great\", \"grotesque\", \"group\", \"guy\", \"hair\", \"hair_salon\", \"happen\", \"happy\", \"happy_birthday\", \"head\", \"health\", \"healthy\", \"help\", \"here\", \"high\", \"holiday\", \"home\", \"host\", \"hot\", \"house\", \"ice_cream\", \"ink\", \"ink_copic\", \"involve\", \"jam\", \"janitorial_service\", \"jazz\", \"join\", \"know\", \"land\", \"lane\", \"lane_blocke\", \"last\", \"lawyer\", \"leave\", \"left_lane\", \"let\", \"life\", \"lift\", \"light\", \"line\", \"liner\", \"link\", \"listen\", \"live\", \"location\", \"long\", \"look\", \"los_angele\", \"lot\", \"love\", \"low\", \"m\", \"magazine\", \"main\", \"make\", \"man\", \"many\", \"market\", \"marketing\", \"matter\", \"medium\", \"meet\", \"mind\", \"mini\", \"miss\", \"model\", \"money\", \"month\", \"morning\", \"move\", \"movie\", \"much\", \"music\", \"natural\", \"nb\", \"need\", \"never\", \"new\", \"next\", \"night\", \"nola\", \"nurse\", \"oak\", \"offer\", \"old\", \"open\", \"park\", \"pen\", \"pencil\", \"people\", \"philly\", \"photo\", \"photographer\", \"photography\", \"photoshoot\", \"pic\", \"pick\", \"picture\", \"pie\", \"pittsburgh\", \"pittsburgh\", \"pkwy\", \"place\", \"play\", \"pm\", \"podcast\", \"police\", \"pop\", \"portrait\", \"possibly\", \"post\", \"postcard_markete\", \"price\", \"progress\", \"protest\", \"rain\", \"rally\", \"ramp\", \"random\", \"rare_collectible\", \"reach\", \"ready\", \"real_estate\", \"really\", \"recap\", \"relax\", \"remember\", \"report\", \"restart\", \"restaurant\", \"restaurants_veterinarian\", \"right_lane\", \"rim\", \"rise\", \"ritz_sullivan\", \"river\", \"rnb\", \"road\", \"road_construction\", \"rock\", \"room\", \"roosevelt_blvd\", \"s\", \"sale\", \"sale_sale\", \"say\", \"scene\", \"school\", \"season\", \"see\", \"see_image\", \"sell\", \"series\", \"serious\", \"service\", \"set\", \"share\", \"shoot\", \"shop\", \"short\", \"shot\", \"shoulder_blocke\", \"shout\", \"show\", \"side\", \"silver_fronti\", \"singer\", \"singer_songwriter\", \"skin\", \"skincare\", \"sleep\", \"slow\", \"small\", \"song\", \"soon\", \"sound\", \"spot\", \"spread\", \"staedtler\", \"stand\", \"start\", \"state\", \"stay\", \"still\", \"stop\", \"store\", \"story\", \"street\", \"studio\", \"style\", \"summer\", \"sunset\", \"support\", \"surreal\", \"sweet\", \"take\", \"talk\", \"tattoo\", \"team\", \"team_nutz\", \"teamwork\", \"tell\", \"thank\", \"thing\", \"think\", \"throwback\", \"time\", \"tired\", \"today\", \"todays_sale\", \"together\", \"tomorrow\", \"tonight\", \"top\", \"tour\", \"traffic\", \"travel\", \"tree\", \"trip\", \"truck\", \"tune\", \"twin_lake\", \"two_lane\", \"use\", \"ve\", \"vibe\", \"video\", \"vine_st\", \"visit\", \"voice\", \"vote\", \"walk\", \"warm\", \"watch\", \"water\", \"way\", \"website\", \"wedding\", \"week\", \"weekend\", \"weird\", \"well\", \"wheel\", \"white\", \"win\", \"wish\", \"woman\", \"word\", \"work\", \"world\", \"year\"]}, \"R\": 30, \"lambda.step\": 0.01, \"plot.opts\": {\"xlab\": \"PC1\", \"ylab\": \"PC2\"}, \"topic.order\": [6, 4, 9, 3, 2, 8, 13, 15, 1, 7, 12, 10, 11, 14, 5]};\n",
              "\n",
              "function LDAvis_load_lib(url, callback){\n",
              "  var s = document.createElement('script');\n",
              "  s.src = url;\n",
              "  s.async = true;\n",
              "  s.onreadystatechange = s.onload = callback;\n",
              "  s.onerror = function(){console.warn(\"failed to load library \" + url);};\n",
              "  document.getElementsByTagName(\"head\")[0].appendChild(s);\n",
              "}\n",
              "\n",
              "if(typeof(LDAvis) !== \"undefined\"){\n",
              "   // already loaded: just create the visualization\n",
              "   !function(LDAvis){\n",
              "       new LDAvis(\"#\" + \"ldavis_el8811397678178961124527804793\", ldavis_el8811397678178961124527804793_data);\n",
              "   }(LDAvis);\n",
              "}else if(typeof define === \"function\" && define.amd){\n",
              "   // require.js is available: use it to load d3/LDAvis\n",
              "   require.config({paths: {d3: \"https://d3js.org/d3.v5\"}});\n",
              "   require([\"d3\"], function(d3){\n",
              "      window.d3 = d3;\n",
              "      LDAvis_load_lib(\"https://cdn.jsdelivr.net/gh/bmabey/pyLDAvis@3.4.0/pyLDAvis/js/ldavis.v3.0.0.js\", function(){\n",
              "        new LDAvis(\"#\" + \"ldavis_el8811397678178961124527804793\", ldavis_el8811397678178961124527804793_data);\n",
              "      });\n",
              "    });\n",
              "}else{\n",
              "    // require.js not available: dynamically load d3 & LDAvis\n",
              "    LDAvis_load_lib(\"https://d3js.org/d3.v5.js\", function(){\n",
              "         LDAvis_load_lib(\"https://cdn.jsdelivr.net/gh/bmabey/pyLDAvis@3.4.0/pyLDAvis/js/ldavis.v3.0.0.js\", function(){\n",
              "                 new LDAvis(\"#\" + \"ldavis_el8811397678178961124527804793\", ldavis_el8811397678178961124527804793_data);\n",
              "            })\n",
              "         });\n",
              "}\n",
              "</script>"
            ]
          },
          "metadata": {},
          "execution_count": 29
        }
      ],
      "source": [
        "pyLDAvis.enable_notebook()\n",
        "vis = pyLDAvis.gensim.prepare(lda_model, corpus, id2word)\n",
        "vis"
      ]
    },
    {
      "cell_type": "code",
      "execution_count": 29,
      "metadata": {
        "colab": {
          "base_uri": "https://localhost:8080/"
        },
        "id": "L4OaF4lV9q5C",
        "outputId": "7923030a-54b3-4ada-d8c2-41fc5b8b3ed5"
      },
      "outputs": [
        {
          "output_type": "stream",
          "name": "stderr",
          "text": [
            "/usr/local/lib/python3.10/dist-packages/ipykernel/ipkernel.py:283: DeprecationWarning: `should_run_async` will not call `transform_cell` automatically in the future. Please pass the result to `transformed_cell` argument and any exception that happen during thetransform in `preprocessing_exc_tuple` in IPython 7.17 and above.\n",
            "  and should_run_async(code)\n"
          ]
        }
      ],
      "source": []
    },
    {
      "cell_type": "markdown",
      "source": [
        "# TF-IDF Analysis"
      ],
      "metadata": {
        "id": "O9KbuRkTcsoW"
      }
    },
    {
      "cell_type": "code",
      "execution_count": 30,
      "metadata": {
        "colab": {
          "base_uri": "https://localhost:8080/"
        },
        "id": "Rm5W_Bk4Gq7L",
        "outputId": "15e20529-f9d8-4246-8f9f-bb0278590bf6"
      },
      "outputs": [
        {
          "output_type": "stream",
          "name": "stderr",
          "text": [
            "/usr/local/lib/python3.10/dist-packages/ipykernel/ipkernel.py:283: DeprecationWarning: `should_run_async` will not call `transform_cell` automatically in the future. Please pass the result to `transformed_cell` argument and any exception that happen during thetransform in `preprocessing_exc_tuple` in IPython 7.17 and above.\n",
            "  and should_run_async(code)\n"
          ]
        }
      ],
      "source": [
        "from sklearn.feature_extraction.text import TfidfVectorizer"
      ]
    },
    {
      "cell_type": "code",
      "execution_count": 31,
      "metadata": {
        "colab": {
          "base_uri": "https://localhost:8080/"
        },
        "id": "Dd65qVauMvpd",
        "outputId": "1cf98db9-366e-4714-9ea9-b64adda6630d"
      },
      "outputs": [
        {
          "output_type": "stream",
          "name": "stderr",
          "text": [
            "/usr/local/lib/python3.10/dist-packages/ipykernel/ipkernel.py:283: DeprecationWarning: `should_run_async` will not call `transform_cell` automatically in the future. Please pass the result to `transformed_cell` argument and any exception that happen during thetransform in `preprocessing_exc_tuple` in IPython 7.17 and above.\n",
            "  and should_run_async(code)\n"
          ]
        },
        {
          "name": "stdout",
          "output_type": "stream",
          "text": [
            "NLTK Downloader\n",
            "---------------------------------------------------------------------------\n",
            "    d) Download   l) List    u) Update   c) Config   h) Help   q) Quit\n",
            "---------------------------------------------------------------------------\n",
            "Downloader> d\n",
            "\n",
            "Download which package (l=list; x=cancel)?\n",
            "  Identifier> words\n"
          ]
        },
        {
          "output_type": "stream",
          "name": "stderr",
          "text": [
            "    Downloading package words to /root/nltk_data...\n",
            "      Unzipping corpora/words.zip.\n"
          ]
        },
        {
          "name": "stdout",
          "output_type": "stream",
          "text": [
            "\n",
            "---------------------------------------------------------------------------\n",
            "    d) Download   l) List    u) Update   c) Config   h) Help   q) Quit\n",
            "---------------------------------------------------------------------------\n",
            "Downloader> q\n"
          ]
        },
        {
          "output_type": "execute_result",
          "data": {
            "text/plain": [
              "True"
            ]
          },
          "metadata": {},
          "execution_count": 31
        }
      ],
      "source": [
        "import nltk\n",
        "nltk.download()"
      ]
    },
    {
      "cell_type": "code",
      "execution_count": 32,
      "metadata": {
        "id": "fSb9Cu8_Mhed",
        "colab": {
          "base_uri": "https://localhost:8080/"
        },
        "outputId": "956804ce-3a35-43cf-9955-38c29741fcd8"
      },
      "outputs": [
        {
          "output_type": "stream",
          "name": "stderr",
          "text": [
            "/usr/local/lib/python3.10/dist-packages/ipykernel/ipkernel.py:283: DeprecationWarning: `should_run_async` will not call `transform_cell` automatically in the future. Please pass the result to `transformed_cell` argument and any exception that happen during thetransform in `preprocessing_exc_tuple` in IPython 7.17 and above.\n",
            "  and should_run_async(code)\n"
          ]
        }
      ],
      "source": [
        "eng_words = set(nltk.corpus.words.words())"
      ]
    },
    {
      "cell_type": "code",
      "execution_count": 33,
      "metadata": {
        "id": "jB4LqzcSGq_3",
        "colab": {
          "base_uri": "https://localhost:8080/"
        },
        "outputId": "467efbf4-e66a-4484-a0ca-874df812365f"
      },
      "outputs": [
        {
          "output_type": "stream",
          "name": "stderr",
          "text": [
            "/usr/local/lib/python3.10/dist-packages/ipykernel/ipkernel.py:283: DeprecationWarning: `should_run_async` will not call `transform_cell` automatically in the future. Please pass the result to `transformed_cell` argument and any exception that happen during thetransform in `preprocessing_exc_tuple` in IPython 7.17 and above.\n",
            "  and should_run_async(code)\n"
          ]
        }
      ],
      "source": [
        "tweets_lst = []\n",
        "for t in data_words:\n",
        "    t_str = ' '.join(t)\n",
        "    cleaned_t = \" \".join(w for w in nltk.wordpunct_tokenize(t_str) if w.lower() in eng_words or not w.isalpha())\n",
        "    tweets_lst.append(cleaned_t)"
      ]
    },
    {
      "cell_type": "code",
      "execution_count": 34,
      "metadata": {
        "id": "AIIJEcrSGq9g",
        "colab": {
          "base_uri": "https://localhost:8080/"
        },
        "outputId": "a883b98d-17a9-4a07-d5bc-b434102fe832"
      },
      "outputs": [
        {
          "output_type": "stream",
          "name": "stderr",
          "text": [
            "/usr/local/lib/python3.10/dist-packages/ipykernel/ipkernel.py:283: DeprecationWarning: `should_run_async` will not call `transform_cell` automatically in the future. Please pass the result to `transformed_cell` argument and any exception that happen during thetransform in `preprocessing_exc_tuple` in IPython 7.17 and above.\n",
            "  and should_run_async(code)\n"
          ]
        }
      ],
      "source": [
        "vectorizer = TfidfVectorizer()\n",
        "X = vectorizer.fit_transform(tweets_lst)"
      ]
    },
    {
      "cell_type": "code",
      "execution_count": 35,
      "metadata": {
        "id": "090potpcG7mS",
        "colab": {
          "base_uri": "https://localhost:8080/"
        },
        "outputId": "c7f8b632-9fe7-46f3-fffa-a22b6acd31a9"
      },
      "outputs": [
        {
          "output_type": "stream",
          "name": "stderr",
          "text": [
            "/usr/local/lib/python3.10/dist-packages/ipykernel/ipkernel.py:283: DeprecationWarning: `should_run_async` will not call `transform_cell` automatically in the future. Please pass the result to `transformed_cell` argument and any exception that happen during thetransform in `preprocessing_exc_tuple` in IPython 7.17 and above.\n",
            "  and should_run_async(code)\n"
          ]
        },
        {
          "output_type": "stream",
          "name": "stdout",
          "text": [
            "Count Vectorizer\n",
            "\n",
            "       a_luve_of_hair  aa  aba  abandoned  abate  abb  abbas  abbey  abbot  \\\n",
            "0                   0   0    0          0      0    0      0      0      0   \n",
            "1                   0   0    0          0      0    0      0      0      0   \n",
            "2                   0   0    0          0      0    0      0      0      0   \n",
            "3                   0   0    0          0      0    0      0      0      0   \n",
            "4                   0   0    0          0      0    0      0      0      0   \n",
            "...               ...  ..  ...        ...    ...  ...    ...    ...    ...   \n",
            "27195               0   0    0          0      0    0      0      0      0   \n",
            "27196               0   0    0          0      0    0      0      0      0   \n",
            "27197               0   0    0          0      0    0      0      0      0   \n",
            "27198               0   0    0          0      0    0      0      0      0   \n",
            "27199               0   0    0          0      0    0      0      0      0   \n",
            "\n",
            "       abdication  ...  zinfandel  zip  zipper  zo  zodiac  zombie  zone  \\\n",
            "0               0  ...          0    0       0   0       0       0     0   \n",
            "1               0  ...          0    0       0   0       0       0     0   \n",
            "2               0  ...          0    0       0   0       0       0     0   \n",
            "3               0  ...          0    0       0   0       0       0     0   \n",
            "4               0  ...          0    0       0   0       0       0     0   \n",
            "...           ...  ...        ...  ...     ...  ..     ...     ...   ...   \n",
            "27195           0  ...          0    0       0   0       0       0     0   \n",
            "27196           0  ...          0    0       0   0       0       0     0   \n",
            "27197           0  ...          0    0       0   0       0       0     0   \n",
            "27198           0  ...          0    0       0   0       0       0     0   \n",
            "27199           0  ...          0    0       0   0       0       0     0   \n",
            "\n",
            "       zoning  zoo  zoom  \n",
            "0           0    0     0  \n",
            "1           0    0     0  \n",
            "2           0    0     0  \n",
            "3           0    0     0  \n",
            "4           0    0     0  \n",
            "...       ...  ...   ...  \n",
            "27195       0    0     0  \n",
            "27196       0    0     0  \n",
            "27197       0    0     0  \n",
            "27198       0    0     0  \n",
            "27199       0    0     0  \n",
            "\n",
            "[27200 rows x 12316 columns]\n",
            "\n",
            "TD-IDF Vectorizer\n",
            "\n",
            "       a_luve_of_hair   aa  aba  abandoned  abate  abb  abbas  abbey  abbot  \\\n",
            "0                 0.0  0.0  0.0        0.0    0.0  0.0    0.0    0.0    0.0   \n",
            "1                 0.0  0.0  0.0        0.0    0.0  0.0    0.0    0.0    0.0   \n",
            "2                 0.0  0.0  0.0        0.0    0.0  0.0    0.0    0.0    0.0   \n",
            "3                 0.0  0.0  0.0        0.0    0.0  0.0    0.0    0.0    0.0   \n",
            "4                 0.0  0.0  0.0        0.0    0.0  0.0    0.0    0.0    0.0   \n",
            "...               ...  ...  ...        ...    ...  ...    ...    ...    ...   \n",
            "27195             0.0  0.0  0.0        0.0    0.0  0.0    0.0    0.0    0.0   \n",
            "27196             0.0  0.0  0.0        0.0    0.0  0.0    0.0    0.0    0.0   \n",
            "27197             0.0  0.0  0.0        0.0    0.0  0.0    0.0    0.0    0.0   \n",
            "27198             0.0  0.0  0.0        0.0    0.0  0.0    0.0    0.0    0.0   \n",
            "27199             0.0  0.0  0.0        0.0    0.0  0.0    0.0    0.0    0.0   \n",
            "\n",
            "       abdication  ...  zinfandel  zip  zipper   zo  zodiac  zombie  zone  \\\n",
            "0             0.0  ...        0.0  0.0     0.0  0.0     0.0     0.0   0.0   \n",
            "1             0.0  ...        0.0  0.0     0.0  0.0     0.0     0.0   0.0   \n",
            "2             0.0  ...        0.0  0.0     0.0  0.0     0.0     0.0   0.0   \n",
            "3             0.0  ...        0.0  0.0     0.0  0.0     0.0     0.0   0.0   \n",
            "4             0.0  ...        0.0  0.0     0.0  0.0     0.0     0.0   0.0   \n",
            "...           ...  ...        ...  ...     ...  ...     ...     ...   ...   \n",
            "27195         0.0  ...        0.0  0.0     0.0  0.0     0.0     0.0   0.0   \n",
            "27196         0.0  ...        0.0  0.0     0.0  0.0     0.0     0.0   0.0   \n",
            "27197         0.0  ...        0.0  0.0     0.0  0.0     0.0     0.0   0.0   \n",
            "27198         0.0  ...        0.0  0.0     0.0  0.0     0.0     0.0   0.0   \n",
            "27199         0.0  ...        0.0  0.0     0.0  0.0     0.0     0.0   0.0   \n",
            "\n",
            "       zoning  zoo  zoom  \n",
            "0         0.0  0.0   0.0  \n",
            "1         0.0  0.0   0.0  \n",
            "2         0.0  0.0   0.0  \n",
            "3         0.0  0.0   0.0  \n",
            "4         0.0  0.0   0.0  \n",
            "...       ...  ...   ...  \n",
            "27195     0.0  0.0   0.0  \n",
            "27196     0.0  0.0   0.0  \n",
            "27197     0.0  0.0   0.0  \n",
            "27198     0.0  0.0   0.0  \n",
            "27199     0.0  0.0   0.0  \n",
            "\n",
            "[27200 rows x 12316 columns]\n"
          ]
        }
      ],
      "source": [
        "from sklearn.feature_extraction.text import TfidfVectorizer,CountVectorizer\n",
        "import pandas as pd\n",
        "\n",
        "train = tweets_lst\n",
        "\n",
        "countvectorizer = CountVectorizer(analyzer= 'word', stop_words='english')\n",
        "tfidfvectorizer = TfidfVectorizer(analyzer='word',stop_words= 'english')\n",
        "\n",
        "# convert th documents into a matrix\n",
        "count_wm = countvectorizer.fit_transform(train)\n",
        "tfidf_wm = tfidfvectorizer.fit_transform(train)\n",
        "#retrieve the terms found in the corpora\n",
        "# if we take same parameters on both Classes(CountVectorizer and TfidfVectorizer) , it will give same output of get_feature_names() methods)\n",
        "#count_tokens = tfidfvectorizer.get_feature_names() # no difference\n",
        "count_tokens = countvectorizer.get_feature_names_out()\n",
        "tfidf_tokens = tfidfvectorizer.get_feature_names_out()\n",
        "df_countvect = pd.DataFrame(data = count_wm.toarray(),columns = count_tokens)\n",
        "df_tfidfvect = pd.DataFrame(data = tfidf_wm.toarray(),columns = tfidf_tokens)\n",
        "print(\"Count Vectorizer\\n\")\n",
        "print(df_countvect)\n",
        "print(\"\\nTD-IDF Vectorizer\\n\")\n",
        "print(df_tfidfvect)"
      ]
    },
    {
      "cell_type": "code",
      "source": [
        "def get_tfidf_index(word):\n",
        "    return df_tfidfvect[df_tfidfvect['abbot']>0].index[0]"
      ],
      "metadata": {
        "id": "OEA7xMc9czst",
        "colab": {
          "base_uri": "https://localhost:8080/"
        },
        "outputId": "aa1a293d-c790-4f9e-d3a3-d9dce8dc93c0"
      },
      "execution_count": 49,
      "outputs": [
        {
          "output_type": "stream",
          "name": "stderr",
          "text": [
            "/usr/local/lib/python3.10/dist-packages/ipykernel/ipkernel.py:283: DeprecationWarning: `should_run_async` will not call `transform_cell` automatically in the future. Please pass the result to `transformed_cell` argument and any exception that happen during thetransform in `preprocessing_exc_tuple` in IPython 7.17 and above.\n",
            "  and should_run_async(code)\n"
          ]
        }
      ]
    },
    {
      "cell_type": "code",
      "source": [
        "word_of_interest = 'abbot'\n",
        "get_tfidf_index(word_of_interest)"
      ],
      "metadata": {
        "colab": {
          "base_uri": "https://localhost:8080/"
        },
        "id": "s3CgDnasbfCo",
        "outputId": "7e5e63f7-2107-4505-becb-89f20931a8d8"
      },
      "execution_count": 50,
      "outputs": [
        {
          "output_type": "stream",
          "name": "stderr",
          "text": [
            "/usr/local/lib/python3.10/dist-packages/ipykernel/ipkernel.py:283: DeprecationWarning: `should_run_async` will not call `transform_cell` automatically in the future. Please pass the result to `transformed_cell` argument and any exception that happen during thetransform in `preprocessing_exc_tuple` in IPython 7.17 and above.\n",
            "  and should_run_async(code)\n"
          ]
        },
        {
          "output_type": "execute_result",
          "data": {
            "text/plain": [
              "25716"
            ]
          },
          "metadata": {},
          "execution_count": 50
        }
      ]
    },
    {
      "cell_type": "code",
      "source": [],
      "metadata": {
        "id": "pr-n-BWcciaI"
      },
      "execution_count": null,
      "outputs": []
    }
  ],
  "metadata": {
    "colab": {
      "provenance": []
    },
    "kernelspec": {
      "display_name": "Python 3",
      "name": "python3"
    },
    "language_info": {
      "name": "python"
    }
  },
  "nbformat": 4,
  "nbformat_minor": 0
}